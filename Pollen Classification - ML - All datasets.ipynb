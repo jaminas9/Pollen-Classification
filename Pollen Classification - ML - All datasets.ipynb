{
 "cells": [
  {
   "cell_type": "code",
   "execution_count": 1,
   "id": "d003e155",
   "metadata": {},
   "outputs": [],
   "source": [
    "#train data\n",
    "import pandas as pd\n",
    "flifetime_train=pd.read_csv(\"C:/Users/Sonja/Desktop/LSDM PROJECT/Data/train/lifetime.csv\")\n",
    "fspectrum_train=pd.read_csv(\"C:/Users/Sonja/Desktop/LSDM PROJECT/Data/train/spectrum.csv\")\n",
    "scattering_train=pd.read_csv(\"C:/Users/Sonja/Desktop/LSDM PROJECT/Data/train/scattering.csv\")\n",
    "size_pomocni_train=pd.read_csv(\"C:/Users/Sonja/Desktop/LSDM PROJECT/Data/train/size.csv\")\n",
    "features_pomocni_train=pd.read_csv(\"C:/Users/Sonja/Desktop/LSDM PROJECT/Data/train/lifetime_features.csv\")\n",
    "train_labels=pd.read_csv(\"C:/Users/Sonja/Desktop/LSDM PROJECT/Data/train/train_labels.csv\")"
   ]
  },
  {
   "cell_type": "code",
   "execution_count": 2,
   "id": "efa0177a",
   "metadata": {},
   "outputs": [],
   "source": [
    "#test data\n",
    "flifetime_test=pd.read_csv(\"C:/Users/Sonja/Desktop/LSDM PROJECT/Data/test/lifetime.csv\")\n",
    "fspectrum_test=pd.read_csv(\"C:/Users/Sonja/Desktop/LSDM PROJECT/Data/test/spectrum.csv\")\n",
    "scattering_test=pd.read_csv(\"C:/Users/Sonja/Desktop/LSDM PROJECT/Data/test/scattering.csv\")\n",
    "size_pomocni_test=pd.read_csv(\"C:/Users/Sonja/Desktop/LSDM PROJECT/Data/test/size.csv\")\n",
    "features_pomocni_test=pd.read_csv(\"C:/Users/Sonja/Desktop/LSDM PROJECT/Data/test/lifetime_features.csv\")"
   ]
  },
  {
   "cell_type": "code",
   "execution_count": 3,
   "id": "a6281ce0",
   "metadata": {},
   "outputs": [],
   "source": [
    "#train data\n",
    "finaldata = pd.merge(pd.merge(pd.merge(pd.merge(pd.merge(flifetime_train,fspectrum_train,on='ID'),scattering_train,on='ID'),size_pomocni_train,on='ID'),features_pomocni_train,on='ID'),train_labels,on='ID')\n",
    "finaldata=pd.DataFrame(finaldata)\n",
    "from sklearn.utils import shuffle\n",
    "finaldata = shuffle(finaldata)\n",
    "finaldata = finaldata.drop('ID', axis=1)"
   ]
  },
  {
   "cell_type": "code",
   "execution_count": 4,
   "id": "6153baee",
   "metadata": {},
   "outputs": [
    {
     "name": "stdout",
     "output_type": "stream",
     "text": [
      "<class 'pandas.core.frame.DataFrame'>\n",
      "Int64Index: 6000 entries, 3768 to 4477\n",
      "Columns: 2630 entries, 350-400 nm, t=0 to Pollen\n",
      "dtypes: float64(2629), int64(1)\n",
      "memory usage: 120.4 MB\n"
     ]
    }
   ],
   "source": [
    "finaldata.info()"
   ]
  },
  {
   "cell_type": "code",
   "execution_count": 5,
   "id": "654a781a",
   "metadata": {},
   "outputs": [],
   "source": [
    "import numpy as np\n",
    "def downcast_dtypes(df): #tryin to reduce memory usage\n",
    "    start=df.memory_usage(deep=True).sum() / 1024**2\n",
    "    float_cols=[c for c in df if df[c].dtype=='float64']\n",
    "    int_cols=[c for c in df if df[c].dtype in ['int64','int32']]\n",
    "    df[float_cols]=df[float_cols].astype(np.float32)\n",
    "    df[int_cols]=df[int_cols].astype(np.int16)\n",
    "    end=df.memory_usage(deep=True).sum() / 1024**2\n",
    "    saved=(start-end)/start*100\n",
    "    print(f\"Saved {saved:.2f}%\")\n",
    "    return df"
   ]
  },
  {
   "cell_type": "code",
   "execution_count": 6,
   "id": "b6c6f83b",
   "metadata": {},
   "outputs": [
    {
     "name": "stdout",
     "output_type": "stream",
     "text": [
      "Saved 49.99%\n"
     ]
    }
   ],
   "source": [
    "finaldata=downcast_dtypes(finaldata)\n"
   ]
  },
  {
   "cell_type": "code",
   "execution_count": 7,
   "id": "0ecc1109",
   "metadata": {},
   "outputs": [
    {
     "name": "stdout",
     "output_type": "stream",
     "text": [
      "<class 'pandas.core.frame.DataFrame'>\n",
      "Int64Index: 6000 entries, 3768 to 4477\n",
      "Columns: 2630 entries, 350-400 nm, t=0 to Pollen\n",
      "dtypes: float32(2629), int16(1)\n",
      "memory usage: 60.2 MB\n"
     ]
    }
   ],
   "source": [
    "finaldata.info()"
   ]
  },
  {
   "cell_type": "code",
   "execution_count": 8,
   "id": "deb41253",
   "metadata": {},
   "outputs": [
    {
     "data": {
      "text/html": [
       "<div><div id=bc3c5318-70f8-4127-a280-088113337355 style=\"display:none; background-color:#9D6CFF; color:white; width:200px; height:30px; padding-left:5px; border-radius:4px; flex-direction:row; justify-content:space-around; align-items:center;\" onmouseover=\"this.style.backgroundColor='#BA9BF8'\" onmouseout=\"this.style.backgroundColor='#9D6CFF'\" onclick=\"window.commands?.execute('create-mitosheet-from-dataframe-output');\">See Full Dataframe in Mito</div> <script> if (window.commands?.hasCommand('create-mitosheet-from-dataframe-output')) document.getElementById('bc3c5318-70f8-4127-a280-088113337355').style.display = 'flex' </script> <table border=\"1\" class=\"dataframe\">\n",
       "  <thead>\n",
       "    <tr style=\"text-align: right;\">\n",
       "      <th></th>\n",
       "      <th>350-400 nm, t=0</th>\n",
       "      <th>350-400 nm, t=1</th>\n",
       "      <th>350-400 nm, t=2</th>\n",
       "      <th>350-400 nm, t=3</th>\n",
       "      <th>350-400 nm, t=4</th>\n",
       "      <th>350-400 nm, t=5</th>\n",
       "      <th>350-400 nm, t=6</th>\n",
       "      <th>350-400 nm, t=7</th>\n",
       "      <th>350-400 nm, t=8</th>\n",
       "      <th>350-400 nm, t=9</th>\n",
       "      <th>...</th>\n",
       "      <th>angle=37.5, t=116</th>\n",
       "      <th>angle=37.5, t=117</th>\n",
       "      <th>angle=37.5, t=118</th>\n",
       "      <th>angle=37.5, t=119</th>\n",
       "      <th>size</th>\n",
       "      <th>lt feature 1</th>\n",
       "      <th>lt feature 2</th>\n",
       "      <th>lt feature 3</th>\n",
       "      <th>lt feature 4</th>\n",
       "      <th>Pollen</th>\n",
       "    </tr>\n",
       "  </thead>\n",
       "  <tbody>\n",
       "    <tr>\n",
       "      <th>3768</th>\n",
       "      <td>0.040994</td>\n",
       "      <td>0.245652</td>\n",
       "      <td>0.450311</td>\n",
       "      <td>0.475776</td>\n",
       "      <td>0.501242</td>\n",
       "      <td>0.432919</td>\n",
       "      <td>0.364596</td>\n",
       "      <td>0.284161</td>\n",
       "      <td>0.203727</td>\n",
       "      <td>0.115839</td>\n",
       "      <td>...</td>\n",
       "      <td>0.0</td>\n",
       "      <td>0.0</td>\n",
       "      <td>0.0</td>\n",
       "      <td>0.0</td>\n",
       "      <td>14.338000</td>\n",
       "      <td>1.000000</td>\n",
       "      <td>0.773130</td>\n",
       "      <td>0.134166</td>\n",
       "      <td>0.003913</td>\n",
       "      <td>7</td>\n",
       "    </tr>\n",
       "    <tr>\n",
       "      <th>220</th>\n",
       "      <td>0.034142</td>\n",
       "      <td>0.066799</td>\n",
       "      <td>0.099456</td>\n",
       "      <td>0.201385</td>\n",
       "      <td>0.303315</td>\n",
       "      <td>0.213013</td>\n",
       "      <td>0.122712</td>\n",
       "      <td>0.067788</td>\n",
       "      <td>0.012865</td>\n",
       "      <td>0.009154</td>\n",
       "      <td>...</td>\n",
       "      <td>0.0</td>\n",
       "      <td>0.0</td>\n",
       "      <td>0.0</td>\n",
       "      <td>0.0</td>\n",
       "      <td>21.633965</td>\n",
       "      <td>0.515131</td>\n",
       "      <td>1.000000</td>\n",
       "      <td>0.564958</td>\n",
       "      <td>0.028238</td>\n",
       "      <td>0</td>\n",
       "    </tr>\n",
       "    <tr>\n",
       "      <th>5684</th>\n",
       "      <td>0.009440</td>\n",
       "      <td>0.205822</td>\n",
       "      <td>0.402203</td>\n",
       "      <td>0.402203</td>\n",
       "      <td>0.402203</td>\n",
       "      <td>0.402203</td>\n",
       "      <td>0.402203</td>\n",
       "      <td>0.285279</td>\n",
       "      <td>0.168355</td>\n",
       "      <td>0.134133</td>\n",
       "      <td>...</td>\n",
       "      <td>0.0</td>\n",
       "      <td>0.0</td>\n",
       "      <td>0.0</td>\n",
       "      <td>0.0</td>\n",
       "      <td>33.592007</td>\n",
       "      <td>0.787695</td>\n",
       "      <td>1.000000</td>\n",
       "      <td>0.311292</td>\n",
       "      <td>0.005716</td>\n",
       "      <td>11</td>\n",
       "    </tr>\n",
       "    <tr>\n",
       "      <th>4729</th>\n",
       "      <td>0.021903</td>\n",
       "      <td>0.044490</td>\n",
       "      <td>0.067077</td>\n",
       "      <td>0.271047</td>\n",
       "      <td>0.475017</td>\n",
       "      <td>0.390828</td>\n",
       "      <td>0.306639</td>\n",
       "      <td>0.257358</td>\n",
       "      <td>0.208077</td>\n",
       "      <td>0.307324</td>\n",
       "      <td>...</td>\n",
       "      <td>0.0</td>\n",
       "      <td>0.0</td>\n",
       "      <td>0.0</td>\n",
       "      <td>0.0</td>\n",
       "      <td>29.091307</td>\n",
       "      <td>0.990244</td>\n",
       "      <td>1.000000</td>\n",
       "      <td>0.376771</td>\n",
       "      <td>0.026945</td>\n",
       "      <td>9</td>\n",
       "    </tr>\n",
       "    <tr>\n",
       "      <th>778</th>\n",
       "      <td>0.089543</td>\n",
       "      <td>0.060383</td>\n",
       "      <td>0.031222</td>\n",
       "      <td>0.145214</td>\n",
       "      <td>0.259205</td>\n",
       "      <td>0.230044</td>\n",
       "      <td>0.200884</td>\n",
       "      <td>0.109278</td>\n",
       "      <td>0.017673</td>\n",
       "      <td>0.063328</td>\n",
       "      <td>...</td>\n",
       "      <td>0.0</td>\n",
       "      <td>0.0</td>\n",
       "      <td>0.0</td>\n",
       "      <td>0.0</td>\n",
       "      <td>26.050995</td>\n",
       "      <td>0.679702</td>\n",
       "      <td>1.000000</td>\n",
       "      <td>0.851423</td>\n",
       "      <td>0.026603</td>\n",
       "      <td>1</td>\n",
       "    </tr>\n",
       "    <tr>\n",
       "      <th>...</th>\n",
       "      <td>...</td>\n",
       "      <td>...</td>\n",
       "      <td>...</td>\n",
       "      <td>...</td>\n",
       "      <td>...</td>\n",
       "      <td>...</td>\n",
       "      <td>...</td>\n",
       "      <td>...</td>\n",
       "      <td>...</td>\n",
       "      <td>...</td>\n",
       "      <td>...</td>\n",
       "      <td>...</td>\n",
       "      <td>...</td>\n",
       "      <td>...</td>\n",
       "      <td>...</td>\n",
       "      <td>...</td>\n",
       "      <td>...</td>\n",
       "      <td>...</td>\n",
       "      <td>...</td>\n",
       "      <td>...</td>\n",
       "      <td>...</td>\n",
       "    </tr>\n",
       "    <tr>\n",
       "      <th>3661</th>\n",
       "      <td>0.020684</td>\n",
       "      <td>0.096579</td>\n",
       "      <td>0.172474</td>\n",
       "      <td>0.270644</td>\n",
       "      <td>0.368815</td>\n",
       "      <td>0.271281</td>\n",
       "      <td>0.173747</td>\n",
       "      <td>0.140971</td>\n",
       "      <td>0.108194</td>\n",
       "      <td>0.073667</td>\n",
       "      <td>...</td>\n",
       "      <td>0.0</td>\n",
       "      <td>0.0</td>\n",
       "      <td>0.0</td>\n",
       "      <td>0.0</td>\n",
       "      <td>27.522388</td>\n",
       "      <td>0.563401</td>\n",
       "      <td>1.000000</td>\n",
       "      <td>0.134931</td>\n",
       "      <td>0.007467</td>\n",
       "      <td>7</td>\n",
       "    </tr>\n",
       "    <tr>\n",
       "      <th>1329</th>\n",
       "      <td>0.023624</td>\n",
       "      <td>0.059532</td>\n",
       "      <td>0.095441</td>\n",
       "      <td>0.309473</td>\n",
       "      <td>0.523506</td>\n",
       "      <td>0.398299</td>\n",
       "      <td>0.273092</td>\n",
       "      <td>0.167730</td>\n",
       "      <td>0.062367</td>\n",
       "      <td>0.047720</td>\n",
       "      <td>...</td>\n",
       "      <td>0.0</td>\n",
       "      <td>0.0</td>\n",
       "      <td>0.0</td>\n",
       "      <td>0.0</td>\n",
       "      <td>18.321775</td>\n",
       "      <td>1.000000</td>\n",
       "      <td>0.973381</td>\n",
       "      <td>0.191113</td>\n",
       "      <td>0.022164</td>\n",
       "      <td>2</td>\n",
       "    </tr>\n",
       "    <tr>\n",
       "      <th>1064</th>\n",
       "      <td>0.009266</td>\n",
       "      <td>0.159389</td>\n",
       "      <td>0.309512</td>\n",
       "      <td>0.356333</td>\n",
       "      <td>0.403154</td>\n",
       "      <td>0.403154</td>\n",
       "      <td>0.403154</td>\n",
       "      <td>0.297191</td>\n",
       "      <td>0.191227</td>\n",
       "      <td>0.131592</td>\n",
       "      <td>...</td>\n",
       "      <td>0.0</td>\n",
       "      <td>0.0</td>\n",
       "      <td>0.0</td>\n",
       "      <td>0.0</td>\n",
       "      <td>33.514576</td>\n",
       "      <td>1.000000</td>\n",
       "      <td>0.931834</td>\n",
       "      <td>0.433787</td>\n",
       "      <td>0.002930</td>\n",
       "      <td>2</td>\n",
       "    </tr>\n",
       "    <tr>\n",
       "      <th>5733</th>\n",
       "      <td>0.004228</td>\n",
       "      <td>0.137421</td>\n",
       "      <td>0.270613</td>\n",
       "      <td>0.331732</td>\n",
       "      <td>0.392850</td>\n",
       "      <td>0.355084</td>\n",
       "      <td>0.317317</td>\n",
       "      <td>0.207669</td>\n",
       "      <td>0.098020</td>\n",
       "      <td>0.071978</td>\n",
       "      <td>...</td>\n",
       "      <td>0.0</td>\n",
       "      <td>0.0</td>\n",
       "      <td>0.0</td>\n",
       "      <td>0.0</td>\n",
       "      <td>19.008360</td>\n",
       "      <td>0.676387</td>\n",
       "      <td>1.000000</td>\n",
       "      <td>0.189713</td>\n",
       "      <td>-0.024406</td>\n",
       "      <td>11</td>\n",
       "    </tr>\n",
       "    <tr>\n",
       "      <th>4477</th>\n",
       "      <td>0.089613</td>\n",
       "      <td>0.152240</td>\n",
       "      <td>0.214868</td>\n",
       "      <td>0.257128</td>\n",
       "      <td>0.299389</td>\n",
       "      <td>0.201629</td>\n",
       "      <td>0.103870</td>\n",
       "      <td>0.049898</td>\n",
       "      <td>-0.004582</td>\n",
       "      <td>-0.032587</td>\n",
       "      <td>...</td>\n",
       "      <td>0.0</td>\n",
       "      <td>0.0</td>\n",
       "      <td>0.0</td>\n",
       "      <td>0.0</td>\n",
       "      <td>7.625837</td>\n",
       "      <td>0.549808</td>\n",
       "      <td>1.000000</td>\n",
       "      <td>0.416188</td>\n",
       "      <td>-0.013649</td>\n",
       "      <td>8</td>\n",
       "    </tr>\n",
       "  </tbody>\n",
       "</table></div>"
      ],
      "text/plain": [
       "      350-400 nm, t=0  350-400 nm, t=1  350-400 nm, t=2  350-400 nm, t=3  \\\n",
       "3768         0.040994         0.245652         0.450311         0.475776   \n",
       "220          0.034142         0.066799         0.099456         0.201385   \n",
       "5684         0.009440         0.205822         0.402203         0.402203   \n",
       "4729         0.021903         0.044490         0.067077         0.271047   \n",
       "778          0.089543         0.060383         0.031222         0.145214   \n",
       "...               ...              ...              ...              ...   \n",
       "3661         0.020684         0.096579         0.172474         0.270644   \n",
       "1329         0.023624         0.059532         0.095441         0.309473   \n",
       "1064         0.009266         0.159389         0.309512         0.356333   \n",
       "5733         0.004228         0.137421         0.270613         0.331732   \n",
       "4477         0.089613         0.152240         0.214868         0.257128   \n",
       "\n",
       "      350-400 nm, t=4  350-400 nm, t=5  350-400 nm, t=6  350-400 nm, t=7  \\\n",
       "3768         0.501242         0.432919         0.364596         0.284161   \n",
       "220          0.303315         0.213013         0.122712         0.067788   \n",
       "5684         0.402203         0.402203         0.402203         0.285279   \n",
       "4729         0.475017         0.390828         0.306639         0.257358   \n",
       "778          0.259205         0.230044         0.200884         0.109278   \n",
       "...               ...              ...              ...              ...   \n",
       "3661         0.368815         0.271281         0.173747         0.140971   \n",
       "1329         0.523506         0.398299         0.273092         0.167730   \n",
       "1064         0.403154         0.403154         0.403154         0.297191   \n",
       "5733         0.392850         0.355084         0.317317         0.207669   \n",
       "4477         0.299389         0.201629         0.103870         0.049898   \n",
       "\n",
       "      350-400 nm, t=8  350-400 nm, t=9  ...  angle=37.5, t=116  \\\n",
       "3768         0.203727         0.115839  ...                0.0   \n",
       "220          0.012865         0.009154  ...                0.0   \n",
       "5684         0.168355         0.134133  ...                0.0   \n",
       "4729         0.208077         0.307324  ...                0.0   \n",
       "778          0.017673         0.063328  ...                0.0   \n",
       "...               ...              ...  ...                ...   \n",
       "3661         0.108194         0.073667  ...                0.0   \n",
       "1329         0.062367         0.047720  ...                0.0   \n",
       "1064         0.191227         0.131592  ...                0.0   \n",
       "5733         0.098020         0.071978  ...                0.0   \n",
       "4477        -0.004582        -0.032587  ...                0.0   \n",
       "\n",
       "      angle=37.5, t=117  angle=37.5, t=118  angle=37.5, t=119       size  \\\n",
       "3768                0.0                0.0                0.0  14.338000   \n",
       "220                 0.0                0.0                0.0  21.633965   \n",
       "5684                0.0                0.0                0.0  33.592007   \n",
       "4729                0.0                0.0                0.0  29.091307   \n",
       "778                 0.0                0.0                0.0  26.050995   \n",
       "...                 ...                ...                ...        ...   \n",
       "3661                0.0                0.0                0.0  27.522388   \n",
       "1329                0.0                0.0                0.0  18.321775   \n",
       "1064                0.0                0.0                0.0  33.514576   \n",
       "5733                0.0                0.0                0.0  19.008360   \n",
       "4477                0.0                0.0                0.0   7.625837   \n",
       "\n",
       "      lt feature 1  lt feature 2  lt feature 3  lt feature 4  Pollen  \n",
       "3768      1.000000      0.773130      0.134166      0.003913       7  \n",
       "220       0.515131      1.000000      0.564958      0.028238       0  \n",
       "5684      0.787695      1.000000      0.311292      0.005716      11  \n",
       "4729      0.990244      1.000000      0.376771      0.026945       9  \n",
       "778       0.679702      1.000000      0.851423      0.026603       1  \n",
       "...            ...           ...           ...           ...     ...  \n",
       "3661      0.563401      1.000000      0.134931      0.007467       7  \n",
       "1329      1.000000      0.973381      0.191113      0.022164       2  \n",
       "1064      1.000000      0.931834      0.433787      0.002930       2  \n",
       "5733      0.676387      1.000000      0.189713     -0.024406      11  \n",
       "4477      0.549808      1.000000      0.416188     -0.013649       8  \n",
       "\n",
       "[6000 rows x 2630 columns]"
      ]
     },
     "execution_count": 8,
     "metadata": {},
     "output_type": "execute_result"
    }
   ],
   "source": [
    "finaldata"
   ]
  },
  {
   "cell_type": "code",
   "execution_count": 9,
   "id": "0d4bd384",
   "metadata": {},
   "outputs": [],
   "source": [
    "X,y=finaldata.loc[:,:'lt feature 4'],finaldata['Pollen']\n",
    "\n",
    "from sklearn.model_selection import train_test_split\n",
    "x_train, x_test, y_train, y_test = train_test_split(X, y, test_size=0.2, random_state=42)\n"
   ]
  },
  {
   "cell_type": "code",
   "execution_count": 10,
   "id": "16217deb",
   "metadata": {},
   "outputs": [],
   "source": [
    "from sklearn.preprocessing import StandardScaler\n",
    "scaler = StandardScaler()\n",
    "\n",
    "scaler.fit(x_train)\n",
    "x_train1 = scaler.transform(x_train)\n",
    "x_test1 = scaler.transform(x_test)"
   ]
  },
  {
   "cell_type": "code",
   "execution_count": 11,
   "id": "b8213871",
   "metadata": {},
   "outputs": [
    {
     "name": "stdout",
     "output_type": "stream",
     "text": [
      "Saved 49.99%\n"
     ]
    }
   ],
   "source": [
    "test = pd.merge(pd.merge(pd.merge(pd.merge(flifetime_test, fspectrum_test, on = 'ID'), scattering_test, on = 'ID'), \n",
    "                         size_pomocni_test, on = 'ID'), features_pomocni_test, on = 'ID')\n",
    "test=pd.DataFrame(test)\n",
    "test=downcast_dtypes(test)\n",
    "test = test.drop('ID', axis=1)\n"
   ]
  },
  {
   "cell_type": "code",
   "execution_count": 12,
   "id": "5c14509f",
   "metadata": {},
   "outputs": [],
   "source": [
    "test1 = scaler.transform(test)"
   ]
  },
  {
   "cell_type": "markdown",
   "id": "9709e5f5",
   "metadata": {},
   "source": [
    "## Knn"
   ]
  },
  {
   "cell_type": "code",
   "execution_count": 13,
   "id": "46c8848f",
   "metadata": {},
   "outputs": [],
   "source": [
    "from sklearn.neighbors import KNeighborsClassifier"
   ]
  },
  {
   "cell_type": "markdown",
   "id": "13a06739",
   "metadata": {},
   "source": [
    "Done on downsampled dataset, with 1000 rows : Best leaf_size : 1, Best p : 1"
   ]
  },
  {
   "cell_type": "code",
   "execution_count": null,
   "id": "1db73cec",
   "metadata": {},
   "outputs": [
    {
     "name": "stdout",
     "output_type": "stream",
     "text": [
      "ERROR! Session/line number was not unique in database. History logging moved to new session 409\n"
     ]
    }
   ],
   "source": [
    "#Looking for best number of neighbors\n",
    "neighbors = np.arange(1,50)\n",
    "train_accuracy =np.empty(len(neighbors))\n",
    "test_accuracy = np.empty(len(neighbors))\n",
    "\n",
    "for i,k in enumerate(neighbors):\n",
    "    #Setup a knn classifier with k neighbors\n",
    "    knn = KNeighborsClassifier(p = 1, leaf_size = 1, n_neighbors = k)\n",
    "    \n",
    "    #Fit the model\n",
    "    knn.fit(x_train1, y_train)\n",
    "    \n",
    "    #Compute accuracy on the training set\n",
    "    train_accuracy[i] = knn.score(x_train1, y_train)\n",
    "    \n",
    "    #Compute accuracy on the test set\n",
    "    test_accuracy[i] = knn.score(x_test1, y_test) "
   ]
  },
  {
   "cell_type": "code",
   "execution_count": null,
   "id": "e5382937",
   "metadata": {
    "scrolled": true
   },
   "outputs": [],
   "source": [
    "#Generate plot\n",
    "import matplotlib.pyplot as plt\n",
    "plt.title('k-NN Varying number of neighbors')\n",
    "plt.plot(neighbors, test_accuracy, label='Testing Accuracy')\n",
    "plt.plot(neighbors, train_accuracy, label='Training accuracy')\n",
    "plt.legend()\n",
    "plt.xlabel('Number of neighbors')\n",
    "plt.ylabel('Accuracy')\n",
    "plt.show()"
   ]
  },
  {
   "cell_type": "markdown",
   "id": "7155edb0",
   "metadata": {},
   "source": [
    "Now we fit new knn with these parameters"
   ]
  },
  {
   "cell_type": "code",
   "execution_count": 17,
   "id": "daf18c1e",
   "metadata": {},
   "outputs": [],
   "source": [
    "classifier = KNeighborsClassifier(n_neighbors = 30, p = 1, leaf_size = 1)\n",
    "classifier.fit(x_train1, y_train)\n",
    "ypred=classifier.predict(x_test1)"
   ]
  },
  {
   "cell_type": "code",
   "execution_count": 18,
   "id": "cca4bcd3",
   "metadata": {},
   "outputs": [
    {
     "name": "stdout",
     "output_type": "stream",
     "text": [
      "Training set score: 0.3963\n",
      "Test set score: 0.3449\n"
     ]
    }
   ],
   "source": [
    "print('Training set score: {:.4f}'.format(classifier.score(x_train1, y_train)))\n",
    "print('Test set score: {:.4f}'.format(classifier.score(x_test1, y_test)))"
   ]
  },
  {
   "cell_type": "code",
   "execution_count": 19,
   "id": "f9cabebf",
   "metadata": {},
   "outputs": [
    {
     "data": {
      "text/html": [
       "<div><div id=1d4a1968-7393-40aa-baba-b00139df2d9b style=\"display:none; background-color:#9D6CFF; color:white; width:200px; height:30px; padding-left:5px; border-radius:4px; flex-direction:row; justify-content:space-around; align-items:center;\" onmouseover=\"this.style.backgroundColor='#BA9BF8'\" onmouseout=\"this.style.backgroundColor='#9D6CFF'\" onclick=\"window.commands?.execute('create-mitosheet-from-dataframe-output');\">See Full Dataframe in Mito</div> <script> if (window.commands?.hasCommand('create-mitosheet-from-dataframe-output')) document.getElementById('1d4a1968-7393-40aa-baba-b00139df2d9b').style.display = 'flex' </script> <table border=\"1\" class=\"dataframe\">\n",
       "  <thead>\n",
       "    <tr style=\"text-align: right;\">\n",
       "      <th></th>\n",
       "      <th>0</th>\n",
       "    </tr>\n",
       "  </thead>\n",
       "  <tbody>\n",
       "    <tr>\n",
       "      <th>0</th>\n",
       "      <td>9</td>\n",
       "    </tr>\n",
       "    <tr>\n",
       "      <th>1</th>\n",
       "      <td>5</td>\n",
       "    </tr>\n",
       "    <tr>\n",
       "      <th>2</th>\n",
       "      <td>8</td>\n",
       "    </tr>\n",
       "    <tr>\n",
       "      <th>3</th>\n",
       "      <td>5</td>\n",
       "    </tr>\n",
       "    <tr>\n",
       "      <th>4</th>\n",
       "      <td>4</td>\n",
       "    </tr>\n",
       "    <tr>\n",
       "      <th>...</th>\n",
       "      <td>...</td>\n",
       "    </tr>\n",
       "    <tr>\n",
       "      <th>3861</th>\n",
       "      <td>3</td>\n",
       "    </tr>\n",
       "    <tr>\n",
       "      <th>3862</th>\n",
       "      <td>5</td>\n",
       "    </tr>\n",
       "    <tr>\n",
       "      <th>3863</th>\n",
       "      <td>9</td>\n",
       "    </tr>\n",
       "    <tr>\n",
       "      <th>3864</th>\n",
       "      <td>9</td>\n",
       "    </tr>\n",
       "    <tr>\n",
       "      <th>3865</th>\n",
       "      <td>3</td>\n",
       "    </tr>\n",
       "  </tbody>\n",
       "</table></div>"
      ],
      "text/plain": [
       "      0\n",
       "0     9\n",
       "1     5\n",
       "2     8\n",
       "3     5\n",
       "4     4\n",
       "...  ..\n",
       "3861  3\n",
       "3862  5\n",
       "3863  9\n",
       "3864  9\n",
       "3865  3\n",
       "\n",
       "[3866 rows x 1 columns]"
      ]
     },
     "execution_count": 19,
     "metadata": {},
     "output_type": "execute_result"
    }
   ],
   "source": [
    "ypred=classifier.predict(test1)\n",
    "ypred=pd.DataFrame(ypred)\n",
    "ypred"
   ]
  },
  {
   "cell_type": "code",
   "execution_count": 20,
   "id": "665c46b3",
   "metadata": {},
   "outputs": [],
   "source": [
    "xlsfile = 'pandas_to_excel.xlsx'\n",
    "writer = pd.ExcelWriter(xlsfile, engine='xlsxwriter')\n",
    "\n",
    "ypred.to_excel('submission1.xlsx', sheet_name='new_sheet_name')"
   ]
  },
  {
   "cell_type": "markdown",
   "id": "3e1968ee",
   "metadata": {},
   "source": [
    "## Random Forest"
   ]
  },
  {
   "cell_type": "code",
   "execution_count": 30,
   "id": "61ce9a82",
   "metadata": {},
   "outputs": [],
   "source": [
    "from sklearn.ensemble import RandomForestClassifier\n"
   ]
  },
  {
   "cell_type": "markdown",
   "id": "cddcf11a",
   "metadata": {},
   "source": [
    "Done on downsampled dataset, with 1000 rows : Best max_depth: 90, Best max_features: 3, Best min_samples_leaf: 3, Best n_estimators: 200, Best min_samples_split: 10 and we fit rf with these parameter"
   ]
  },
  {
   "cell_type": "code",
   "execution_count": 61,
   "id": "cd3bc68e",
   "metadata": {},
   "outputs": [
    {
     "data": {
      "text/html": [
       "<style>#sk-container-id-13 {color: black;background-color: white;}#sk-container-id-13 pre{padding: 0;}#sk-container-id-13 div.sk-toggleable {background-color: white;}#sk-container-id-13 label.sk-toggleable__label {cursor: pointer;display: block;width: 100%;margin-bottom: 0;padding: 0.3em;box-sizing: border-box;text-align: center;}#sk-container-id-13 label.sk-toggleable__label-arrow:before {content: \"▸\";float: left;margin-right: 0.25em;color: #696969;}#sk-container-id-13 label.sk-toggleable__label-arrow:hover:before {color: black;}#sk-container-id-13 div.sk-estimator:hover label.sk-toggleable__label-arrow:before {color: black;}#sk-container-id-13 div.sk-toggleable__content {max-height: 0;max-width: 0;overflow: hidden;text-align: left;background-color: #f0f8ff;}#sk-container-id-13 div.sk-toggleable__content pre {margin: 0.2em;color: black;border-radius: 0.25em;background-color: #f0f8ff;}#sk-container-id-13 input.sk-toggleable__control:checked~div.sk-toggleable__content {max-height: 200px;max-width: 100%;overflow: auto;}#sk-container-id-13 input.sk-toggleable__control:checked~label.sk-toggleable__label-arrow:before {content: \"▾\";}#sk-container-id-13 div.sk-estimator input.sk-toggleable__control:checked~label.sk-toggleable__label {background-color: #d4ebff;}#sk-container-id-13 div.sk-label input.sk-toggleable__control:checked~label.sk-toggleable__label {background-color: #d4ebff;}#sk-container-id-13 input.sk-hidden--visually {border: 0;clip: rect(1px 1px 1px 1px);clip: rect(1px, 1px, 1px, 1px);height: 1px;margin: -1px;overflow: hidden;padding: 0;position: absolute;width: 1px;}#sk-container-id-13 div.sk-estimator {font-family: monospace;background-color: #f0f8ff;border: 1px dotted black;border-radius: 0.25em;box-sizing: border-box;margin-bottom: 0.5em;}#sk-container-id-13 div.sk-estimator:hover {background-color: #d4ebff;}#sk-container-id-13 div.sk-parallel-item::after {content: \"\";width: 100%;border-bottom: 1px solid gray;flex-grow: 1;}#sk-container-id-13 div.sk-label:hover label.sk-toggleable__label {background-color: #d4ebff;}#sk-container-id-13 div.sk-serial::before {content: \"\";position: absolute;border-left: 1px solid gray;box-sizing: border-box;top: 0;bottom: 0;left: 50%;z-index: 0;}#sk-container-id-13 div.sk-serial {display: flex;flex-direction: column;align-items: center;background-color: white;padding-right: 0.2em;padding-left: 0.2em;position: relative;}#sk-container-id-13 div.sk-item {position: relative;z-index: 1;}#sk-container-id-13 div.sk-parallel {display: flex;align-items: stretch;justify-content: center;background-color: white;position: relative;}#sk-container-id-13 div.sk-item::before, #sk-container-id-13 div.sk-parallel-item::before {content: \"\";position: absolute;border-left: 1px solid gray;box-sizing: border-box;top: 0;bottom: 0;left: 50%;z-index: -1;}#sk-container-id-13 div.sk-parallel-item {display: flex;flex-direction: column;z-index: 1;position: relative;background-color: white;}#sk-container-id-13 div.sk-parallel-item:first-child::after {align-self: flex-end;width: 50%;}#sk-container-id-13 div.sk-parallel-item:last-child::after {align-self: flex-start;width: 50%;}#sk-container-id-13 div.sk-parallel-item:only-child::after {width: 0;}#sk-container-id-13 div.sk-dashed-wrapped {border: 1px dashed gray;margin: 0 0.4em 0.5em 0.4em;box-sizing: border-box;padding-bottom: 0.4em;background-color: white;}#sk-container-id-13 div.sk-label label {font-family: monospace;font-weight: bold;display: inline-block;line-height: 1.2em;}#sk-container-id-13 div.sk-label-container {text-align: center;}#sk-container-id-13 div.sk-container {/* jupyter's `normalize.less` sets `[hidden] { display: none; }` but bootstrap.min.css set `[hidden] { display: none !important; }` so we also need the `!important` here to be able to override the default hidden behavior on the sphinx rendered scikit-learn.org. See: https://github.com/scikit-learn/scikit-learn/issues/21755 */display: inline-block !important;position: relative;}#sk-container-id-13 div.sk-text-repr-fallback {display: none;}</style><div id=\"sk-container-id-13\" class=\"sk-top-container\"><div class=\"sk-text-repr-fallback\"><pre>RandomForestClassifier(max_depth=90, max_features=3, min_samples_leaf=3,\n",
       "                       min_samples_split=12, n_estimators=300, random_state=42)</pre><b>In a Jupyter environment, please rerun this cell to show the HTML representation or trust the notebook. <br />On GitHub, the HTML representation is unable to render, please try loading this page with nbviewer.org.</b></div><div class=\"sk-container\" hidden><div class=\"sk-item\"><div class=\"sk-estimator sk-toggleable\"><input class=\"sk-toggleable__control sk-hidden--visually\" id=\"sk-estimator-id-13\" type=\"checkbox\" checked><label for=\"sk-estimator-id-13\" class=\"sk-toggleable__label sk-toggleable__label-arrow\">RandomForestClassifier</label><div class=\"sk-toggleable__content\"><pre>RandomForestClassifier(max_depth=90, max_features=3, min_samples_leaf=3,\n",
       "                       min_samples_split=12, n_estimators=300, random_state=42)</pre></div></div></div></div></div>"
      ],
      "text/plain": [
       "RandomForestClassifier(max_depth=90, max_features=3, min_samples_leaf=3,\n",
       "                       min_samples_split=12, n_estimators=300, random_state=42)"
      ]
     },
     "execution_count": 61,
     "metadata": {},
     "output_type": "execute_result"
    }
   ],
   "source": [
    "forest=RandomForestClassifier(max_depth = 90, max_features = 3, min_samples_leaf = 3, n_estimators = 200,\n",
    "                              min_samples_split = 10, random_state = 42)\n",
    "forest.fit(x_train, y_train)\n"
   ]
  },
  {
   "cell_type": "code",
   "execution_count": 62,
   "id": "2cbd78c5",
   "metadata": {},
   "outputs": [
    {
     "name": "stdout",
     "output_type": "stream",
     "text": [
      "Training set score: 0.9149\n",
      "Test set score: 0.4202\n"
     ]
    }
   ],
   "source": [
    "print('Training set score: {:.4f}'.format(forest.score(x_train, y_train)))\n",
    "print('Test set score: {:.4f}'.format(forest.score(x_test, y_test)))"
   ]
  },
  {
   "cell_type": "code",
   "execution_count": 63,
   "id": "2817e010",
   "metadata": {
    "scrolled": true
   },
   "outputs": [
    {
     "data": {
      "text/html": [
       "<div><div id=c91ce813-027d-4937-ae4b-28d63ddbafba style=\"display:none; background-color:#9D6CFF; color:white; width:200px; height:30px; padding-left:5px; border-radius:4px; flex-direction:row; justify-content:space-around; align-items:center;\" onmouseover=\"this.style.backgroundColor='#BA9BF8'\" onmouseout=\"this.style.backgroundColor='#9D6CFF'\" onclick=\"window.commands?.execute('create-mitosheet-from-dataframe-output');\">See Full Dataframe in Mito</div> <script> if (window.commands?.hasCommand('create-mitosheet-from-dataframe-output')) document.getElementById('c91ce813-027d-4937-ae4b-28d63ddbafba').style.display = 'flex' </script> <table border=\"1\" class=\"dataframe\">\n",
       "  <thead>\n",
       "    <tr style=\"text-align: right;\">\n",
       "      <th></th>\n",
       "      <th>0</th>\n",
       "    </tr>\n",
       "  </thead>\n",
       "  <tbody>\n",
       "    <tr>\n",
       "      <th>0</th>\n",
       "      <td>9</td>\n",
       "    </tr>\n",
       "    <tr>\n",
       "      <th>1</th>\n",
       "      <td>2</td>\n",
       "    </tr>\n",
       "    <tr>\n",
       "      <th>2</th>\n",
       "      <td>0</td>\n",
       "    </tr>\n",
       "    <tr>\n",
       "      <th>3</th>\n",
       "      <td>5</td>\n",
       "    </tr>\n",
       "    <tr>\n",
       "      <th>4</th>\n",
       "      <td>4</td>\n",
       "    </tr>\n",
       "    <tr>\n",
       "      <th>...</th>\n",
       "      <td>...</td>\n",
       "    </tr>\n",
       "    <tr>\n",
       "      <th>3861</th>\n",
       "      <td>11</td>\n",
       "    </tr>\n",
       "    <tr>\n",
       "      <th>3862</th>\n",
       "      <td>5</td>\n",
       "    </tr>\n",
       "    <tr>\n",
       "      <th>3863</th>\n",
       "      <td>9</td>\n",
       "    </tr>\n",
       "    <tr>\n",
       "      <th>3864</th>\n",
       "      <td>9</td>\n",
       "    </tr>\n",
       "    <tr>\n",
       "      <th>3865</th>\n",
       "      <td>3</td>\n",
       "    </tr>\n",
       "  </tbody>\n",
       "</table></div>"
      ],
      "text/plain": [
       "       0\n",
       "0      9\n",
       "1      2\n",
       "2      0\n",
       "3      5\n",
       "4      4\n",
       "...   ..\n",
       "3861  11\n",
       "3862   5\n",
       "3863   9\n",
       "3864   9\n",
       "3865   3\n",
       "\n",
       "[3866 rows x 1 columns]"
      ]
     },
     "execution_count": 63,
     "metadata": {},
     "output_type": "execute_result"
    }
   ],
   "source": [
    "ypred1=forest.predict(test)\n",
    "ypred1=pd.DataFrame(ypred1)\n",
    "ypred1"
   ]
  },
  {
   "cell_type": "code",
   "execution_count": 64,
   "id": "9dd0174c",
   "metadata": {},
   "outputs": [],
   "source": [
    "xlsfile = 'pandas_to_excel.xlsx'\n",
    "writer = pd.ExcelWriter(xlsfile, engine='xlsxwriter')\n",
    "\n",
    "ypred1.to_excel('submission2.xlsx', sheet_name='new_sheet_name')"
   ]
  },
  {
   "cell_type": "markdown",
   "id": "a89418a9",
   "metadata": {},
   "source": [
    "# xgboost"
   ]
  },
  {
   "cell_type": "code",
   "execution_count": 13,
   "id": "d2ae5215",
   "metadata": {},
   "outputs": [
    {
     "data": {
      "text/html": [
       "<style>#sk-container-id-1 {color: black;background-color: white;}#sk-container-id-1 pre{padding: 0;}#sk-container-id-1 div.sk-toggleable {background-color: white;}#sk-container-id-1 label.sk-toggleable__label {cursor: pointer;display: block;width: 100%;margin-bottom: 0;padding: 0.3em;box-sizing: border-box;text-align: center;}#sk-container-id-1 label.sk-toggleable__label-arrow:before {content: \"▸\";float: left;margin-right: 0.25em;color: #696969;}#sk-container-id-1 label.sk-toggleable__label-arrow:hover:before {color: black;}#sk-container-id-1 div.sk-estimator:hover label.sk-toggleable__label-arrow:before {color: black;}#sk-container-id-1 div.sk-toggleable__content {max-height: 0;max-width: 0;overflow: hidden;text-align: left;background-color: #f0f8ff;}#sk-container-id-1 div.sk-toggleable__content pre {margin: 0.2em;color: black;border-radius: 0.25em;background-color: #f0f8ff;}#sk-container-id-1 input.sk-toggleable__control:checked~div.sk-toggleable__content {max-height: 200px;max-width: 100%;overflow: auto;}#sk-container-id-1 input.sk-toggleable__control:checked~label.sk-toggleable__label-arrow:before {content: \"▾\";}#sk-container-id-1 div.sk-estimator input.sk-toggleable__control:checked~label.sk-toggleable__label {background-color: #d4ebff;}#sk-container-id-1 div.sk-label input.sk-toggleable__control:checked~label.sk-toggleable__label {background-color: #d4ebff;}#sk-container-id-1 input.sk-hidden--visually {border: 0;clip: rect(1px 1px 1px 1px);clip: rect(1px, 1px, 1px, 1px);height: 1px;margin: -1px;overflow: hidden;padding: 0;position: absolute;width: 1px;}#sk-container-id-1 div.sk-estimator {font-family: monospace;background-color: #f0f8ff;border: 1px dotted black;border-radius: 0.25em;box-sizing: border-box;margin-bottom: 0.5em;}#sk-container-id-1 div.sk-estimator:hover {background-color: #d4ebff;}#sk-container-id-1 div.sk-parallel-item::after {content: \"\";width: 100%;border-bottom: 1px solid gray;flex-grow: 1;}#sk-container-id-1 div.sk-label:hover label.sk-toggleable__label {background-color: #d4ebff;}#sk-container-id-1 div.sk-serial::before {content: \"\";position: absolute;border-left: 1px solid gray;box-sizing: border-box;top: 0;bottom: 0;left: 50%;z-index: 0;}#sk-container-id-1 div.sk-serial {display: flex;flex-direction: column;align-items: center;background-color: white;padding-right: 0.2em;padding-left: 0.2em;position: relative;}#sk-container-id-1 div.sk-item {position: relative;z-index: 1;}#sk-container-id-1 div.sk-parallel {display: flex;align-items: stretch;justify-content: center;background-color: white;position: relative;}#sk-container-id-1 div.sk-item::before, #sk-container-id-1 div.sk-parallel-item::before {content: \"\";position: absolute;border-left: 1px solid gray;box-sizing: border-box;top: 0;bottom: 0;left: 50%;z-index: -1;}#sk-container-id-1 div.sk-parallel-item {display: flex;flex-direction: column;z-index: 1;position: relative;background-color: white;}#sk-container-id-1 div.sk-parallel-item:first-child::after {align-self: flex-end;width: 50%;}#sk-container-id-1 div.sk-parallel-item:last-child::after {align-self: flex-start;width: 50%;}#sk-container-id-1 div.sk-parallel-item:only-child::after {width: 0;}#sk-container-id-1 div.sk-dashed-wrapped {border: 1px dashed gray;margin: 0 0.4em 0.5em 0.4em;box-sizing: border-box;padding-bottom: 0.4em;background-color: white;}#sk-container-id-1 div.sk-label label {font-family: monospace;font-weight: bold;display: inline-block;line-height: 1.2em;}#sk-container-id-1 div.sk-label-container {text-align: center;}#sk-container-id-1 div.sk-container {/* jupyter's `normalize.less` sets `[hidden] { display: none; }` but bootstrap.min.css set `[hidden] { display: none !important; }` so we also need the `!important` here to be able to override the default hidden behavior on the sphinx rendered scikit-learn.org. See: https://github.com/scikit-learn/scikit-learn/issues/21755 */display: inline-block !important;position: relative;}#sk-container-id-1 div.sk-text-repr-fallback {display: none;}</style><div id=\"sk-container-id-1\" class=\"sk-top-container\"><div class=\"sk-text-repr-fallback\"><pre>XGBClassifier(base_score=0.5, booster=&#x27;gbtree&#x27;, callbacks=None,\n",
       "              colsample_bylevel=1, colsample_bynode=1, colsample_bytree=1,\n",
       "              early_stopping_rounds=None, enable_categorical=False,\n",
       "              eval_metric=None, gamma=0, gpu_id=-1, grow_policy=&#x27;depthwise&#x27;,\n",
       "              importance_type=None, interaction_constraints=&#x27;&#x27;,\n",
       "              learning_rate=0.300000012, max_bin=256, max_cat_to_onehot=4,\n",
       "              max_delta_step=0, max_depth=6, max_leaves=0, min_child_weight=1,\n",
       "              missing=nan, monotone_constraints=&#x27;()&#x27;, n_estimators=100,\n",
       "              n_jobs=0, num_parallel_tree=1, objective=&#x27;multi:softprob&#x27;,\n",
       "              predictor=&#x27;auto&#x27;, random_state=0, reg_alpha=0, ...)</pre><b>In a Jupyter environment, please rerun this cell to show the HTML representation or trust the notebook. <br />On GitHub, the HTML representation is unable to render, please try loading this page with nbviewer.org.</b></div><div class=\"sk-container\" hidden><div class=\"sk-item\"><div class=\"sk-estimator sk-toggleable\"><input class=\"sk-toggleable__control sk-hidden--visually\" id=\"sk-estimator-id-1\" type=\"checkbox\" checked><label for=\"sk-estimator-id-1\" class=\"sk-toggleable__label sk-toggleable__label-arrow\">XGBClassifier</label><div class=\"sk-toggleable__content\"><pre>XGBClassifier(base_score=0.5, booster=&#x27;gbtree&#x27;, callbacks=None,\n",
       "              colsample_bylevel=1, colsample_bynode=1, colsample_bytree=1,\n",
       "              early_stopping_rounds=None, enable_categorical=False,\n",
       "              eval_metric=None, gamma=0, gpu_id=-1, grow_policy=&#x27;depthwise&#x27;,\n",
       "              importance_type=None, interaction_constraints=&#x27;&#x27;,\n",
       "              learning_rate=0.300000012, max_bin=256, max_cat_to_onehot=4,\n",
       "              max_delta_step=0, max_depth=6, max_leaves=0, min_child_weight=1,\n",
       "              missing=nan, monotone_constraints=&#x27;()&#x27;, n_estimators=100,\n",
       "              n_jobs=0, num_parallel_tree=1, objective=&#x27;multi:softprob&#x27;,\n",
       "              predictor=&#x27;auto&#x27;, random_state=0, reg_alpha=0, ...)</pre></div></div></div></div></div>"
      ],
      "text/plain": [
       "XGBClassifier(base_score=0.5, booster='gbtree', callbacks=None,\n",
       "              colsample_bylevel=1, colsample_bynode=1, colsample_bytree=1,\n",
       "              early_stopping_rounds=None, enable_categorical=False,\n",
       "              eval_metric=None, gamma=0, gpu_id=-1, grow_policy='depthwise',\n",
       "              importance_type=None, interaction_constraints='',\n",
       "              learning_rate=0.300000012, max_bin=256, max_cat_to_onehot=4,\n",
       "              max_delta_step=0, max_depth=6, max_leaves=0, min_child_weight=1,\n",
       "              missing=nan, monotone_constraints='()', n_estimators=100,\n",
       "              n_jobs=0, num_parallel_tree=1, objective='multi:softprob',\n",
       "              predictor='auto', random_state=0, reg_alpha=0, ...)"
      ]
     },
     "execution_count": 13,
     "metadata": {},
     "output_type": "execute_result"
    }
   ],
   "source": [
    "from xgboost import XGBClassifier\n",
    "\n",
    "xgboost = XGBClassifier(objective = 'multiclass:softmax')\n",
    "xgboost.fit(x_train, y_train)\n"
   ]
  },
  {
   "cell_type": "code",
   "execution_count": 14,
   "id": "9c3bff99",
   "metadata": {},
   "outputs": [
    {
     "name": "stdout",
     "output_type": "stream",
     "text": [
      "Training set score: 1.0000\n",
      "Test set score: 0.5551\n"
     ]
    }
   ],
   "source": [
    "print('Training set score: {:.4f}'.format(xgboost.score(x_train, y_train)))\n",
    "print('Test set score: {:.4f}'.format(xgboost.score(x_test, y_test)))"
   ]
  },
  {
   "cell_type": "code",
   "execution_count": 15,
   "id": "8c0d572e",
   "metadata": {},
   "outputs": [
    {
     "data": {
      "text/html": [
       "<div><div id=cc1f5afd-5666-417d-a853-10424f9bb63b style=\"display:none; background-color:#9D6CFF; color:white; width:200px; height:30px; padding-left:5px; border-radius:4px; flex-direction:row; justify-content:space-around; align-items:center;\" onmouseover=\"this.style.backgroundColor='#BA9BF8'\" onmouseout=\"this.style.backgroundColor='#9D6CFF'\" onclick=\"window.commands?.execute('create-mitosheet-from-dataframe-output');\">See Full Dataframe in Mito</div> <script> if (window.commands?.hasCommand('create-mitosheet-from-dataframe-output')) document.getElementById('cc1f5afd-5666-417d-a853-10424f9bb63b').style.display = 'flex' </script> <table border=\"1\" class=\"dataframe\">\n",
       "  <thead>\n",
       "    <tr style=\"text-align: right;\">\n",
       "      <th></th>\n",
       "      <th>0</th>\n",
       "    </tr>\n",
       "  </thead>\n",
       "  <tbody>\n",
       "    <tr>\n",
       "      <th>0</th>\n",
       "      <td>5</td>\n",
       "    </tr>\n",
       "    <tr>\n",
       "      <th>1</th>\n",
       "      <td>9</td>\n",
       "    </tr>\n",
       "    <tr>\n",
       "      <th>2</th>\n",
       "      <td>0</td>\n",
       "    </tr>\n",
       "    <tr>\n",
       "      <th>3</th>\n",
       "      <td>10</td>\n",
       "    </tr>\n",
       "    <tr>\n",
       "      <th>4</th>\n",
       "      <td>6</td>\n",
       "    </tr>\n",
       "    <tr>\n",
       "      <th>...</th>\n",
       "      <td>...</td>\n",
       "    </tr>\n",
       "    <tr>\n",
       "      <th>3861</th>\n",
       "      <td>11</td>\n",
       "    </tr>\n",
       "    <tr>\n",
       "      <th>3862</th>\n",
       "      <td>5</td>\n",
       "    </tr>\n",
       "    <tr>\n",
       "      <th>3863</th>\n",
       "      <td>8</td>\n",
       "    </tr>\n",
       "    <tr>\n",
       "      <th>3864</th>\n",
       "      <td>9</td>\n",
       "    </tr>\n",
       "    <tr>\n",
       "      <th>3865</th>\n",
       "      <td>4</td>\n",
       "    </tr>\n",
       "  </tbody>\n",
       "</table></div>"
      ],
      "text/plain": [
       "       0\n",
       "0      5\n",
       "1      9\n",
       "2      0\n",
       "3     10\n",
       "4      6\n",
       "...   ..\n",
       "3861  11\n",
       "3862   5\n",
       "3863   8\n",
       "3864   9\n",
       "3865   4\n",
       "\n",
       "[3866 rows x 1 columns]"
      ]
     },
     "execution_count": 15,
     "metadata": {},
     "output_type": "execute_result"
    }
   ],
   "source": [
    "ypred2=xgboost.predict(test)\n",
    "ypred2=pd.DataFrame(ypred2)\n",
    "ypred2"
   ]
  },
  {
   "cell_type": "code",
   "execution_count": 16,
   "id": "ae278ff0",
   "metadata": {},
   "outputs": [],
   "source": [
    "xlsfile = 'pandas_to_excel.xlsx'\n",
    "writer = pd.ExcelWriter(xlsfile, engine='xlsxwriter')\n",
    "\n",
    "ypred2.to_excel('submission3xgb.xlsx', sheet_name='new_sheet_name')"
   ]
  }
 ],
 "metadata": {
  "kernelspec": {
   "display_name": "Python 3",
   "language": "python",
   "name": "python3"
  },
  "language_info": {
   "codemirror_mode": {
    "name": "ipython",
    "version": 3
   },
   "file_extension": ".py",
   "mimetype": "text/x-python",
   "name": "python",
   "nbconvert_exporter": "python",
   "pygments_lexer": "ipython3",
   "version": "3.8.8"
  }
 },
 "nbformat": 4,
 "nbformat_minor": 5
}
