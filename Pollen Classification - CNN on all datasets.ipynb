{
 "cells": [
  {
   "cell_type": "code",
   "execution_count": 12,
   "id": "f9526498",
   "metadata": {},
   "outputs": [],
   "source": [
    "import pandas as pd\n",
    "import numpy as np\n",
    "import random\n",
    "import keras\n",
    "import matplotlib.pyplot as plt\n",
    "from sklearn.utils import shuffle\n",
    "import seaborn as sns\n",
    "import tensorflow\n",
    "from tensorflow.keras.models import Model, Sequential\n",
    "from tensorflow.keras.layers import Flatten, Conv2D, MaxPool2D, AveragePooling2D, BatchNormalization\n",
    "from tensorflow.keras.layers import Dense, Dropout, Activation\n"
   ]
  },
  {
   "cell_type": "code",
   "execution_count": 13,
   "id": "eb65ff4d",
   "metadata": {},
   "outputs": [],
   "source": [
    "flifetime_train = pd.read_csv(\"C:/Users/Sonja/Desktop/LSDM PROJECT/Data/train/lifetime.csv\")\n",
    "fspectrum_train = pd.read_csv(\"C:/Users/Sonja/Desktop/LSDM PROJECT/Data/train/spectrum.csv\")\n",
    "scattering_train = pd.read_csv(\"C:/Users/Sonja/Desktop/LSDM PROJECT/Data/train/scattering.csv\")\n",
    "size_pomocni_train = pd.read_csv(\"C:/Users/Sonja/Desktop/LSDM PROJECT/Data/train/size.csv\")\n",
    "features_pomocni_train = pd.read_csv(\"C:/Users/Sonja/Desktop/LSDM PROJECT/Data/train/lifetime_features.csv\")\n",
    "train_labels = pd.read_csv(\"C:/Users/Sonja/Desktop/LSDM PROJECT/Data/train/train_labels.csv\")"
   ]
  },
  {
   "cell_type": "code",
   "execution_count": 14,
   "id": "c67ca179",
   "metadata": {},
   "outputs": [],
   "source": [
    "flifetime_test = pd.read_csv(\"C:/Users/Sonja/Desktop/LSDM PROJECT/Data/test/lifetime.csv\")\n",
    "fspectrum_test = pd.read_csv(\"C:/Users/Sonja/Desktop/LSDM PROJECT/Data/test/spectrum.csv\")\n",
    "scattering_test = pd.read_csv(\"C:/Users/Sonja/Desktop/LSDM PROJECT/Data/test/scattering.csv\")\n",
    "size_pomocni_test = pd.read_csv(\"C:/Users/Sonja/Desktop/LSDM PROJECT/Data/test/size.csv\")\n",
    "features_pomocni_test = pd.read_csv(\"C:/Users/Sonja/Desktop/LSDM PROJECT/Data/test/lifetime_features.csv\")"
   ]
  },
  {
   "cell_type": "code",
   "execution_count": 15,
   "id": "32d5c750",
   "metadata": {},
   "outputs": [],
   "source": [
    "def downcast_dtypes(df): #tryin to reduce memory usage\n",
    "    start = df.memory_usage(deep = True).sum() / 1024**2\n",
    "    float_cols = [c for c in df if df[c].dtype == 'float64']\n",
    "    int_cols = [c for c in df if df[c].dtype in ['int64','int32']]\n",
    "    df[float_cols] = df[float_cols].astype(np.float32)\n",
    "    df[int_cols] = df[int_cols].astype(np.int16)\n",
    "    end = df.memory_usage(deep = True).sum() / 1024**2\n",
    "    saved = (start-end) / start*100\n",
    "    print(f\"Saved {saved:.2f}%\")\n",
    "    return df"
   ]
  },
  {
   "cell_type": "code",
   "execution_count": 16,
   "id": "f0d22bfc",
   "metadata": {},
   "outputs": [
    {
     "name": "stdout",
     "output_type": "stream",
     "text": [
      "Saved 50.26%\n",
      "Saved 50.26%\n"
     ]
    }
   ],
   "source": [
    "tr1 = downcast_dtypes(flifetime_train)\n",
    "test1 = downcast_dtypes(flifetime_test) "
   ]
  },
  {
   "cell_type": "code",
   "execution_count": 17,
   "id": "65ee7183",
   "metadata": {},
   "outputs": [
    {
     "name": "stdout",
     "output_type": "stream",
     "text": [
      "Saved 50.19%\n",
      "Saved 50.19%\n"
     ]
    }
   ],
   "source": [
    "tr2 = downcast_dtypes(fspectrum_train)\n",
    "test2 = downcast_dtypes(fspectrum_test)"
   ]
  },
  {
   "cell_type": "code",
   "execution_count": 18,
   "id": "e4eef955",
   "metadata": {},
   "outputs": [
    {
     "name": "stdout",
     "output_type": "stream",
     "text": [
      "Saved 50.01%\n",
      "Saved 50.01%\n"
     ]
    }
   ],
   "source": [
    "tr3 = downcast_dtypes(scattering_train)\n",
    "test3 = downcast_dtypes(scattering_test)"
   ]
  },
  {
   "cell_type": "code",
   "execution_count": 19,
   "id": "ba42368d",
   "metadata": {},
   "outputs": [
    {
     "name": "stdout",
     "output_type": "stream",
     "text": [
      "Saved 62.42%\n",
      "Saved 62.37%\n"
     ]
    }
   ],
   "source": [
    "tr4 = downcast_dtypes(size_pomocni_train)\n",
    "test4 = downcast_dtypes(size_pomocni_test)"
   ]
  },
  {
   "cell_type": "code",
   "execution_count": 20,
   "id": "619fabe1",
   "metadata": {},
   "outputs": [
    {
     "name": "stdout",
     "output_type": "stream",
     "text": [
      "Saved 54.97%\n",
      "Saved 54.95%\n"
     ]
    }
   ],
   "source": [
    "tr5 = downcast_dtypes(features_pomocni_train)\n",
    "test5 = downcast_dtypes(features_pomocni_test)"
   ]
  },
  {
   "cell_type": "code",
   "execution_count": 21,
   "id": "6372fa60",
   "metadata": {},
   "outputs": [
    {
     "name": "stdout",
     "output_type": "stream",
     "text": [
      "Saved 74.90%\n"
     ]
    }
   ],
   "source": [
    "labelsset = downcast_dtypes(train_labels)"
   ]
  },
  {
   "cell_type": "code",
   "execution_count": 22,
   "id": "88990fe6",
   "metadata": {},
   "outputs": [],
   "source": [
    "tr1_transformed = [np.array(tr1.iloc[i, 1:]).reshape(4, 24) for i in range(tr1.shape[0])]\n",
    "tr2_transformed = [np.array(tr2.iloc[i, 1:]).reshape(4, 32) for i in range(tr2.shape[0])]\n",
    "tr3_transformed = [np.array(tr3.iloc[i, 1:]).reshape(20, 120) for i in range(tr3.shape[0])]"
   ]
  },
  {
   "cell_type": "code",
   "execution_count": 23,
   "id": "d497713c",
   "metadata": {},
   "outputs": [],
   "source": [
    "indices = np.array(range(tr3.shape[0]))\n",
    "\n",
    "random.seed(0)\n",
    "random.shuffle(indices)\n",
    "\n",
    "trains1 = [tr1_transformed[ind] for ind in indices]\n",
    "trains2 = [tr2_transformed[ind] for ind in indices]\n",
    "trains3 = [tr3_transformed[ind] for ind in indices]\n",
    "labels = [labelsset['Pollen'][ind] for ind in indices]"
   ]
  },
  {
   "cell_type": "code",
   "execution_count": 24,
   "id": "24582ca3",
   "metadata": {},
   "outputs": [],
   "source": [
    "ind = np.int16(np.round(0.8 * len(tr3)))\n",
    "\n",
    "#deviding tran and validation set\n",
    "\n",
    "train1 = trains1[:ind]\n",
    "train2 = trains2[:ind]\n",
    "train3 = trains3[:ind]\n",
    "trainlabelss = labels[:ind]\n",
    "\n",
    "val1 = trains1[ind:]\n",
    "val2 = trains2[ind:]\n",
    "val3 = trains3[ind:]\n",
    "vallabelss = labels[ind:]\n",
    "\n",
    "#transforming labels\n",
    "from keras.utils import to_categorical\n",
    "\n",
    "vallabels = to_categorical(vallabelss)\n",
    "trainlabels = to_categorical(trainlabelss)\n",
    "\n",
    "#into arrays to fit network\n",
    "train1 = np.array(train1)\n",
    "train2 = np.array(train2)\n",
    "train3 = np.array(train3)\n",
    "val1 = np.array(val1)\n",
    "val2 = np.array(val2)\n",
    "val3 = np.array(val3)\n",
    "\n",
    "trainlabels = np.array(trainlabels)\n",
    "vallabels = np.array(vallabels)"
   ]
  },
  {
   "cell_type": "code",
   "execution_count": 25,
   "id": "bb300123",
   "metadata": {},
   "outputs": [
    {
     "data": {
      "text/plain": [
       "(4800, 4, 24)"
      ]
     },
     "execution_count": 25,
     "metadata": {},
     "output_type": "execute_result"
    }
   ],
   "source": [
    "train1.shape"
   ]
  },
  {
   "cell_type": "code",
   "execution_count": 26,
   "id": "dba67e4c",
   "metadata": {},
   "outputs": [
    {
     "data": {
      "text/plain": [
       "(1200, 4, 24)"
      ]
     },
     "execution_count": 26,
     "metadata": {},
     "output_type": "execute_result"
    }
   ],
   "source": [
    "val1.shape"
   ]
  },
  {
   "cell_type": "markdown",
   "id": "8da49acc",
   "metadata": {},
   "source": [
    "## CNN"
   ]
  },
  {
   "cell_type": "code",
   "execution_count": 48,
   "id": "80e0a2ab",
   "metadata": {},
   "outputs": [],
   "source": [
    "#lifetime\n",
    "\n",
    "f_cnn = Sequential()\n",
    "\n",
    "f_cnn.add(Conv2D(12, (3,3), input_shape = (4, 24, 1), activation = 'relu', padding = 'same'))\n",
    "f_cnn.add(Conv2D(24, (3,3), input_shape = (4, 24, 1), activation = 'relu', padding = 'same'))\n",
    "f_cnn.add(Conv2D(36, (3,3), input_shape = (4, 24, 1), activation = 'relu', padding = 'same')) \n",
    "f_cnn.add(Conv2D(64, (3,3), input_shape = (4, 24, 1), activation = 'relu', padding = 'same')) \n",
    "\n",
    "f_cnn.add(MaxPool2D((2,2)))\n",
    "\n",
    "f_cnn.add(Conv2D(64, (5,5), input_shape = (2, 12, 1), activation = 'relu', padding = 'same'))\n",
    "f_cnn.add(Conv2D(128, (5,5), input_shape = (2, 12, 1), activation = 'relu', padding = 'same'))\n",
    "\n",
    "f_cnn.add(Flatten())\n",
    "\n",
    "f_cnn.add(Dense(64,\n",
    "                activation = 'relu'))\n",
    "f_cnn.add(Dense(36, activation = 'relu'))\n",
    "f_cnn.add(Dense(24,activation = 'relu'))\n",
    "\n",
    "x1 = f_cnn.output"
   ]
  },
  {
   "cell_type": "code",
   "execution_count": 49,
   "id": "63ccf3c1",
   "metadata": {},
   "outputs": [],
   "source": [
    "#spectrum \n",
    "\n",
    "sp_cnn = Sequential()\n",
    "\n",
    "sp_cnn.add(Conv2D(12, (3,3), input_shape = (4, 32, 1), activation = 'relu', padding = 'same'))\n",
    "sp_cnn.add(Conv2D(24, (3,3), input_shape = (4, 32, 1), activation = 'relu', padding = 'same'))\n",
    "sp_cnn.add(Conv2D(36, (3,3), input_shape = (4, 32, 1), activation = 'relu', padding = 'same')) \n",
    "sp_cnn.add(Conv2D(64, (3,3), input_shape = (4, 32, 1), activation = 'relu', padding = 'same')) \n",
    "\n",
    "sp_cnn.add(MaxPool2D((2,2)))\n",
    "\n",
    "sp_cnn.add(Conv2D(64, (5,5), input_shape = (2, 16, 1), activation = 'relu', padding = 'same'))\n",
    "sp_cnn.add(Conv2D(128, (5,5), input_shape = (2, 16, 1), activation = 'relu', padding = 'same'))\n",
    "\n",
    "sp_cnn.add(Flatten())\n",
    "\n",
    "sp_cnn.add(Dense(64, activation = 'relu'))\n",
    "sp_cnn.add(Dense(36, activation = 'relu'))\n",
    "sp_cnn.add(Dense(24, activation = 'relu'))\n",
    "\n",
    "x2 = sp_cnn.output\n"
   ]
  },
  {
   "cell_type": "code",
   "execution_count": 50,
   "id": "35065006",
   "metadata": {},
   "outputs": [],
   "source": [
    "# scattering\n",
    "\n",
    "sc_cnn = Sequential()\n",
    "\n",
    "sc_cnn.add(Conv2D(12, (5,5), input_shape = (20, 120, 1), activation = 'relu', padding = 'same'))\n",
    "sc_cnn.add(Conv2D(24, (5,5), input_shape = (20, 120, 1), activation = 'relu', padding = 'same'))\n",
    "sc_cnn.add(Conv2D(36, (5,5), input_shape = (20, 120, 1), activation = 'relu', padding = 'same')) \n",
    "\n",
    "sc_cnn.add(MaxPool2D((2,2)))\n",
    "\n",
    "sc_cnn.add(Conv2D(36, (5,5), input_shape = (10, 60, 1), activation = 'relu', padding = 'same'))\n",
    "sc_cnn.add(Conv2D(64, (5,5), input_shape = (10, 60, 1), activation = 'relu', padding = 'same'))\n",
    "\n",
    "sc_cnn.add(MaxPool2D((2,2)))\n",
    "\n",
    "sc_cnn.add(Conv2D(64, (5,5), input_shape = (5, 30, 1), activation = 'relu', padding = 'same'))\n",
    "sc_cnn.add(Conv2D(128, (5,5), input_shape = (5, 30, 1), activation = 'relu', padding = 'same'))\n",
    "\n",
    "\n",
    "sc_cnn.add(Flatten())\n",
    "\n",
    "sc_cnn.add(Dense(128, activation = 'relu'))\n",
    "sc_cnn.add(Dense(64, activation = 'relu'))\n",
    "sc_cnn.add(Dense(36, activation = 'relu'))\n",
    "sc_cnn.add(Dense(24,activation = 'relu'))\n",
    "\n",
    "x3 = sc_cnn.output"
   ]
  },
  {
   "cell_type": "code",
   "execution_count": 51,
   "id": "af46626c",
   "metadata": {},
   "outputs": [],
   "source": [
    "combined = tensorflow.keras.layers.concatenate([x1, x2, x3])"
   ]
  },
  {
   "cell_type": "code",
   "execution_count": 52,
   "id": "a8dd3bfc",
   "metadata": {},
   "outputs": [],
   "source": [
    "z = Dense(12, activation=\"softmax\")(combined)"
   ]
  },
  {
   "cell_type": "code",
   "execution_count": 53,
   "id": "edb339f9",
   "metadata": {},
   "outputs": [],
   "source": [
    "model = Model(inputs=[f_cnn.input, sp_cnn.input, sc_cnn.input], outputs=z)"
   ]
  },
  {
   "cell_type": "code",
   "execution_count": 23,
   "id": "ce45371f",
   "metadata": {
    "scrolled": true
   },
   "outputs": [
    {
     "name": "stdout",
     "output_type": "stream",
     "text": [
      "Epoch 1/30\n",
      "20/20 [==============================] - 1537s 75s/step - loss: 7.0477 - accuracy: 0.0988 - val_loss: 2.4587 - val_accuracy: 0.0942\n",
      "Epoch 2/30\n",
      "20/20 [==============================] - 1658s 82s/step - loss: 2.4142 - accuracy: 0.1273 - val_loss: 2.3224 - val_accuracy: 0.2092\n",
      "Epoch 3/30\n",
      "20/20 [==============================] - 1295s 64s/step - loss: 2.2333 - accuracy: 0.2212 - val_loss: 2.0641 - val_accuracy: 0.2683\n",
      "Epoch 4/30\n",
      "20/20 [==============================] - 1242s 63s/step - loss: 1.9927 - accuracy: 0.3252 - val_loss: 1.8879 - val_accuracy: 0.3325\n",
      "Epoch 5/30\n",
      "20/20 [==============================] - 1147s 58s/step - loss: 1.7842 - accuracy: 0.4198 - val_loss: 1.6831 - val_accuracy: 0.4450\n",
      "Epoch 6/30\n",
      "20/20 [==============================] - 1193s 60s/step - loss: 1.6444 - accuracy: 0.4594 - val_loss: 1.6206 - val_accuracy: 0.4533\n",
      "Epoch 7/30\n",
      "20/20 [==============================] - 1880s 96s/step - loss: 1.5641 - accuracy: 0.4919 - val_loss: 1.5163 - val_accuracy: 0.4958\n",
      "Epoch 8/30\n",
      "20/20 [==============================] - 1224s 62s/step - loss: 1.4803 - accuracy: 0.5142 - val_loss: 1.4510 - val_accuracy: 0.5283\n",
      "Epoch 9/30\n",
      "20/20 [==============================] - 1148s 58s/step - loss: 1.4419 - accuracy: 0.5225 - val_loss: 1.5123 - val_accuracy: 0.5058\n",
      "Epoch 10/30\n",
      "20/20 [==============================] - 1274s 64s/step - loss: 1.3765 - accuracy: 0.5481 - val_loss: 1.4259 - val_accuracy: 0.5350\n",
      "Epoch 11/30\n",
      "20/20 [==============================] - 1166s 58s/step - loss: 1.3321 - accuracy: 0.5627 - val_loss: 1.4079 - val_accuracy: 0.5258\n",
      "Epoch 12/30\n",
      "20/20 [==============================] - 1371s 70s/step - loss: 1.3105 - accuracy: 0.5683 - val_loss: 1.3611 - val_accuracy: 0.5517\n",
      "Epoch 13/30\n",
      "20/20 [==============================] - 8792s 459s/step - loss: 1.2759 - accuracy: 0.5817 - val_loss: 1.3340 - val_accuracy: 0.5650\n",
      "Epoch 14/30\n",
      "20/20 [==============================] - 1147s 58s/step - loss: 1.2221 - accuracy: 0.6000 - val_loss: 1.4015 - val_accuracy: 0.5475\n",
      "Epoch 15/30\n",
      "20/20 [==============================] - 1115s 56s/step - loss: 1.1698 - accuracy: 0.6210 - val_loss: 1.3005 - val_accuracy: 0.5717\n",
      "Epoch 16/30\n",
      "20/20 [==============================] - 1813s 93s/step - loss: 1.1303 - accuracy: 0.6313 - val_loss: 1.3289 - val_accuracy: 0.5775\n",
      "Epoch 17/30\n",
      "20/20 [==============================] - 1162s 59s/step - loss: 1.0658 - accuracy: 0.6567 - val_loss: 1.2961 - val_accuracy: 0.6000\n",
      "Epoch 18/30\n",
      "20/20 [==============================] - 1122s 56s/step - loss: 1.0104 - accuracy: 0.6717 - val_loss: 1.3497 - val_accuracy: 0.5742\n",
      "Epoch 19/30\n",
      "20/20 [==============================] - 1141s 58s/step - loss: 1.0043 - accuracy: 0.6765 - val_loss: 1.2902 - val_accuracy: 0.5883\n",
      "Epoch 20/30\n",
      "20/20 [==============================] - 26812s 1408s/step - loss: 0.9667 - accuracy: 0.6848 - val_loss: 1.2758 - val_accuracy: 0.5983\n",
      "Epoch 21/30\n",
      "20/20 [==============================] - 1490s 74s/step - loss: 0.9218 - accuracy: 0.7021 - val_loss: 1.3320 - val_accuracy: 0.5775\n",
      "Epoch 22/30\n",
      "20/20 [==============================] - 1179s 60s/step - loss: 0.8559 - accuracy: 0.7304 - val_loss: 1.3763 - val_accuracy: 0.5825\n",
      "Epoch 23/30\n",
      "20/20 [==============================] - 1221s 62s/step - loss: 0.8196 - accuracy: 0.7271 - val_loss: 1.2926 - val_accuracy: 0.6042\n",
      "Epoch 24/30\n",
      "20/20 [==============================] - 1239s 63s/step - loss: 0.7616 - accuracy: 0.7521 - val_loss: 1.4355 - val_accuracy: 0.5858\n",
      "Epoch 25/30\n",
      "20/20 [==============================] - 1232s 62s/step - loss: 0.7346 - accuracy: 0.7696 - val_loss: 1.5312 - val_accuracy: 0.5733\n",
      "Epoch 26/30\n",
      "20/20 [==============================] - 1250s 62s/step - loss: 0.7318 - accuracy: 0.7533 - val_loss: 1.5189 - val_accuracy: 0.5533\n",
      "Epoch 27/30\n",
      "20/20 [==============================] - 1110s 56s/step - loss: 0.6016 - accuracy: 0.8060 - val_loss: 1.5423 - val_accuracy: 0.5750\n",
      "Epoch 28/30\n",
      "20/20 [==============================] - 1198s 60s/step - loss: 0.5432 - accuracy: 0.8281 - val_loss: 1.6818 - val_accuracy: 0.5592\n",
      "Epoch 29/30\n",
      "20/20 [==============================] - 1184s 59s/step - loss: 0.5243 - accuracy: 0.8344 - val_loss: 1.7195 - val_accuracy: 0.5775\n",
      "Epoch 30/30\n",
      "20/20 [==============================] - 1140s 57s/step - loss: 0.4639 - accuracy: 0.8471 - val_loss: 1.6997 - val_accuracy: 0.5808\n"
     ]
    }
   ],
   "source": [
    "model.compile(loss = 'categorical_crossentropy', optimizer = tensorflow.keras.optimizers.Adam(learning_rate = 0.001),\n",
    "              metrics = ['accuracy'])\n",
    "\n",
    "callback = tensorflow.keras.callbacks.EarlyStopping(monitor = 'val_loss', patience = 10, \n",
    "                         restore_best_weights = True)\n",
    "\n",
    "history = model.fit([train1, train2, train3], trainlabels, batch_size = 240,\n",
    "                        epochs = 30, verbose = 1, validation_data = ([val1, val2, val3], vallabels), \n",
    "                    callbacks = [callback])"
   ]
  },
  {
   "cell_type": "code",
   "execution_count": 30,
   "id": "aa4de16a",
   "metadata": {},
   "outputs": [
    {
     "name": "stdout",
     "output_type": "stream",
     "text": [
      "saved\n"
     ]
    }
   ],
   "source": [
    "from tensorflow.keras.models import model_from_json\n",
    "model_json = model.to_json()\n",
    "with open(\"model.json\", \"w\") as json_file:\n",
    "    json_file.write(model_json)\n",
    "model.save_weights(\"model.h5\")\n",
    "print(\"saved\")"
   ]
  },
  {
   "cell_type": "code",
   "execution_count": 2,
   "id": "60351ee4",
   "metadata": {},
   "outputs": [],
   "source": [
    "from tensorflow.keras.models import model_from_json\n",
    "json_file = open(\"model.json\", \"r\")\n",
    "loaded_model = json_file.read()\n",
    "json_file.close()\n",
    "model = model_from_json(loaded_model)\n",
    "model.load_weights(\"model.h5\")\n"
   ]
  },
  {
   "cell_type": "code",
   "execution_count": 29,
   "id": "aa8debc7",
   "metadata": {},
   "outputs": [
    {
     "name": "stderr",
     "output_type": "stream",
     "text": [
      "Found untraced functions such as _jit_compiled_convolution_op, _jit_compiled_convolution_op, _jit_compiled_convolution_op, _jit_compiled_convolution_op, _jit_compiled_convolution_op while saving (showing 5 of 19). These functions will not be directly callable after loading.\n",
      "Assets written to: ram://9b14b053-a8f8-4bef-a40c-fa9fed782e74/assets\n",
      "Found untraced functions such as _jit_compiled_convolution_op, _jit_compiled_convolution_op, _jit_compiled_convolution_op, _jit_compiled_convolution_op, _jit_compiled_convolution_op while saving (showing 5 of 19). These functions will not be directly callable after loading.\n",
      "Assets written to: my_model\\assets\n"
     ]
    }
   ],
   "source": [
    "model.save(\"my_model\")"
   ]
  },
  {
   "cell_type": "code",
   "execution_count": 7,
   "id": "ab2564b5",
   "metadata": {},
   "outputs": [],
   "source": [
    "import tensorflow\n",
    "model= tensorflow.keras.models.load_model(\"my_model\")"
   ]
  },
  {
   "cell_type": "code",
   "execution_count": 24,
   "id": "d0768acb",
   "metadata": {},
   "outputs": [
    {
     "name": "stdout",
     "output_type": "stream",
     "text": [
      "38/38 - 97s - loss: 1.2758 - accuracy: 0.5983 - 97s/epoch - 3s/step\n"
     ]
    },
    {
     "data": {
      "text/plain": [
       "[1.2758103609085083, 0.5983333587646484]"
      ]
     },
     "execution_count": 24,
     "metadata": {},
     "output_type": "execute_result"
    }
   ],
   "source": [
    "model.evaluate([val1, val2, val3], vallabels, verbose = 2)"
   ]
  },
  {
   "cell_type": "code",
   "execution_count": 25,
   "id": "45b0893d",
   "metadata": {},
   "outputs": [
    {
     "name": "stdout",
     "output_type": "stream",
     "text": [
      "Model: \"model\"\n",
      "__________________________________________________________________________________________________\n",
      " Layer (type)                   Output Shape         Param #     Connected to                     \n",
      "==================================================================================================\n",
      " conv2d_12_input (InputLayer)   [(None, 20, 120, 1)  0           []                               \n",
      "                                ]                                                                 \n",
      "                                                                                                  \n",
      " conv2d_12 (Conv2D)             (None, 20, 120, 12)  312         ['conv2d_12_input[0][0]']        \n",
      "                                                                                                  \n",
      " conv2d_13 (Conv2D)             (None, 20, 120, 24)  7224        ['conv2d_12[0][0]']              \n",
      "                                                                                                  \n",
      " conv2d_input (InputLayer)      [(None, 4, 24, 1)]   0           []                               \n",
      "                                                                                                  \n",
      " conv2d_6_input (InputLayer)    [(None, 4, 32, 1)]   0           []                               \n",
      "                                                                                                  \n",
      " conv2d_14 (Conv2D)             (None, 20, 120, 36)  21636       ['conv2d_13[0][0]']              \n",
      "                                                                                                  \n",
      " conv2d (Conv2D)                (None, 4, 24, 12)    120         ['conv2d_input[0][0]']           \n",
      "                                                                                                  \n",
      " conv2d_6 (Conv2D)              (None, 4, 32, 12)    120         ['conv2d_6_input[0][0]']         \n",
      "                                                                                                  \n",
      " max_pooling2d_2 (MaxPooling2D)  (None, 10, 60, 36)  0           ['conv2d_14[0][0]']              \n",
      "                                                                                                  \n",
      " conv2d_1 (Conv2D)              (None, 4, 24, 24)    2616        ['conv2d[0][0]']                 \n",
      "                                                                                                  \n",
      " conv2d_7 (Conv2D)              (None, 4, 32, 24)    2616        ['conv2d_6[0][0]']               \n",
      "                                                                                                  \n",
      " conv2d_15 (Conv2D)             (None, 10, 60, 36)   32436       ['max_pooling2d_2[0][0]']        \n",
      "                                                                                                  \n",
      " conv2d_2 (Conv2D)              (None, 4, 24, 36)    7812        ['conv2d_1[0][0]']               \n",
      "                                                                                                  \n",
      " conv2d_8 (Conv2D)              (None, 4, 32, 36)    7812        ['conv2d_7[0][0]']               \n",
      "                                                                                                  \n",
      " conv2d_16 (Conv2D)             (None, 10, 60, 64)   57664       ['conv2d_15[0][0]']              \n",
      "                                                                                                  \n",
      " conv2d_3 (Conv2D)              (None, 4, 24, 64)    20800       ['conv2d_2[0][0]']               \n",
      "                                                                                                  \n",
      " conv2d_9 (Conv2D)              (None, 4, 32, 64)    20800       ['conv2d_8[0][0]']               \n",
      "                                                                                                  \n",
      " max_pooling2d_3 (MaxPooling2D)  (None, 5, 30, 64)   0           ['conv2d_16[0][0]']              \n",
      "                                                                                                  \n",
      " max_pooling2d (MaxPooling2D)   (None, 2, 12, 64)    0           ['conv2d_3[0][0]']               \n",
      "                                                                                                  \n",
      " max_pooling2d_1 (MaxPooling2D)  (None, 2, 16, 64)   0           ['conv2d_9[0][0]']               \n",
      "                                                                                                  \n",
      " conv2d_17 (Conv2D)             (None, 5, 30, 64)    102464      ['max_pooling2d_3[0][0]']        \n",
      "                                                                                                  \n",
      " conv2d_4 (Conv2D)              (None, 2, 12, 64)    102464      ['max_pooling2d[0][0]']          \n",
      "                                                                                                  \n",
      " conv2d_10 (Conv2D)             (None, 2, 16, 64)    102464      ['max_pooling2d_1[0][0]']        \n",
      "                                                                                                  \n",
      " conv2d_18 (Conv2D)             (None, 5, 30, 128)   204928      ['conv2d_17[0][0]']              \n",
      "                                                                                                  \n",
      " conv2d_5 (Conv2D)              (None, 2, 12, 128)   204928      ['conv2d_4[0][0]']               \n",
      "                                                                                                  \n",
      " conv2d_11 (Conv2D)             (None, 2, 16, 128)   204928      ['conv2d_10[0][0]']              \n",
      "                                                                                                  \n",
      " flatten_2 (Flatten)            (None, 19200)        0           ['conv2d_18[0][0]']              \n",
      "                                                                                                  \n",
      " flatten (Flatten)              (None, 3072)         0           ['conv2d_5[0][0]']               \n",
      "                                                                                                  \n",
      " flatten_1 (Flatten)            (None, 4096)         0           ['conv2d_11[0][0]']              \n",
      "                                                                                                  \n",
      " dense_6 (Dense)                (None, 128)          2457728     ['flatten_2[0][0]']              \n",
      "                                                                                                  \n",
      " dense (Dense)                  (None, 64)           196672      ['flatten[0][0]']                \n",
      "                                                                                                  \n",
      " dense_3 (Dense)                (None, 64)           262208      ['flatten_1[0][0]']              \n",
      "                                                                                                  \n",
      " dense_7 (Dense)                (None, 64)           8256        ['dense_6[0][0]']                \n",
      "                                                                                                  \n",
      " dense_1 (Dense)                (None, 36)           2340        ['dense[0][0]']                  \n",
      "                                                                                                  \n",
      " dense_4 (Dense)                (None, 36)           2340        ['dense_3[0][0]']                \n",
      "                                                                                                  \n",
      " dense_8 (Dense)                (None, 36)           2340        ['dense_7[0][0]']                \n",
      "                                                                                                  \n",
      " dense_2 (Dense)                (None, 24)           888         ['dense_1[0][0]']                \n",
      "                                                                                                  \n",
      " dense_5 (Dense)                (None, 24)           888         ['dense_4[0][0]']                \n",
      "                                                                                                  \n",
      " dense_9 (Dense)                (None, 24)           888         ['dense_8[0][0]']                \n",
      "                                                                                                  \n",
      " concatenate (Concatenate)      (None, 72)           0           ['dense_2[0][0]',                \n",
      "                                                                  'dense_5[0][0]',                \n",
      "                                                                  'dense_9[0][0]']                \n",
      "                                                                                                  \n",
      " dense_10 (Dense)               (None, 12)           876         ['concatenate[0][0]']            \n",
      "                                                                                                  \n",
      "==================================================================================================\n",
      "Total params: 4,039,568\n",
      "Trainable params: 4,039,568\n",
      "Non-trainable params: 0\n",
      "__________________________________________________________________________________________________\n",
      "None\n"
     ]
    }
   ],
   "source": [
    "print(model.summary()) "
   ]
  },
  {
   "cell_type": "code",
   "execution_count": 26,
   "id": "58b0885e",
   "metadata": {},
   "outputs": [
    {
     "data": {
      "image/png": "[encoded data removed]",
      "text/plain": [
       "<Figure size 432x288 with 1 Axes>"
      ]
     },
     "metadata": {
      "needs_background": "light"
     },
     "output_type": "display_data"
    }
   ],
   "source": [
    "#plot the training and validation accuracy and loss at each epoch\n",
    "loss = history.history['loss']\n",
    "val_loss = history.history['val_loss']\n",
    "epochs = range(1, len(loss) + 1)\n",
    "plt.plot(epochs, loss, 'b', label='Training loss')\n",
    "plt.plot(epochs, val_loss, 'g', label='Validation loss')\n",
    "plt.title('Training and validation loss')\n",
    "plt.xlabel('Epochs')\n",
    "plt.ylabel('Loss')\n",
    "plt.legend()\n",
    "plt.show()"
   ]
  },
  {
   "cell_type": "code",
   "execution_count": 27,
   "id": "9fe70e1d",
   "metadata": {},
   "outputs": [
    {
     "data": {
      "image/png": "[encoded data removed]",
      "text/plain": [
       "<Figure size 432x288 with 1 Axes>"
      ]
     },
     "metadata": {
      "needs_background": "light"
     },
     "output_type": "display_data"
    }
   ],
   "source": [
    "acc = history.history['accuracy']\n",
    "val_acc = history.history['val_accuracy']\n",
    "plt.plot(epochs, acc, 'b', label='Training acc')\n",
    "plt.plot(epochs, val_acc, 'g', label='Validation acc')\n",
    "plt.title('Training and validation accuracy')\n",
    "plt.xlabel('Epochs')\n",
    "plt.ylabel('Accuracy')\n",
    "plt.legend()\n",
    "plt.show()"
   ]
  },
  {
   "cell_type": "code",
   "execution_count": 27,
   "id": "53156fb9",
   "metadata": {
    "scrolled": true
   },
   "outputs": [
    {
     "name": "stdout",
     "output_type": "stream",
     "text": [
      "121/121 [==============================] - 274s 2s/step\n"
     ]
    }
   ],
   "source": [
    "test3transf=[np.array(test3.iloc[i, 1:]).reshape(20, 120) for i in range(test3.shape[0])]\n",
    "test1transf=[np.array(test1.iloc[i, 1:]).reshape(4, 24) for i in range(test1.shape[0])]\n",
    "test2transf=[np.array(test2.iloc[i, 1:]).reshape(4, 32) for i in range(test2.shape[0])]\n",
    "test3=np.array(test3transf)\n",
    "test1=np.array(test1transf)\n",
    "test2=np.array(test2transf)\n",
    "\n",
    "predict = model.predict([test1,test2,test3])"
   ]
  },
  {
   "cell_type": "code",
   "execution_count": 28,
   "id": "096f0a33",
   "metadata": {},
   "outputs": [
    {
     "name": "stdout",
     "output_type": "stream",
     "text": [
      "38/38 [==============================] - 68s 2s/step\n"
     ]
    }
   ],
   "source": [
    "prediction_algo = model.predict([val1, val2, val3])\n",
    "valpred=[]\n",
    "for i in prediction_algo:\n",
    "    valpred.append(np.argmax(i))\n",
    "valpred=pd.DataFrame(valpred)"
   ]
  },
  {
   "cell_type": "code",
   "execution_count": 30,
   "id": "1b6cba80",
   "metadata": {},
   "outputs": [
    {
     "data": {
      "image/png": "[encoded data removed]",
      "text/plain": [
       "<Figure size 720x504 with 2 Axes>"
      ]
     },
     "metadata": {
      "needs_background": "light"
     },
     "output_type": "display_data"
    },
    {
     "name": "stdout",
     "output_type": "stream",
     "text": [
      "              precision    recall  f1-score   support\n",
      "\n",
      "           0       0.64      0.67      0.65       101\n",
      "           1       0.66      0.48      0.56       108\n",
      "           2       0.51      0.49      0.50        94\n",
      "           3       0.54      0.60      0.57       105\n",
      "           4       0.78      0.73      0.75        92\n",
      "           5       0.44      0.53      0.48       103\n",
      "           6       0.64      0.64      0.64       105\n",
      "           7       0.78      0.72      0.75        95\n",
      "           8       0.57      0.60      0.58       102\n",
      "           9       0.38      0.52      0.44        84\n",
      "          10       0.38      0.26      0.31        90\n",
      "          11       0.85      0.86      0.85       121\n",
      "\n",
      "    accuracy                           0.60      1200\n",
      "   macro avg       0.60      0.59      0.59      1200\n",
      "weighted avg       0.60      0.60      0.60      1200\n",
      "\n"
     ]
    }
   ],
   "source": [
    "from sklearn.metrics import confusion_matrix, classification_report\n",
    "import seaborn\n",
    "cm_algo = confusion_matrix(vallabelss, valpred)\n",
    "heat_cm = pd.DataFrame(cm_algo, columns=(0,1,2,3,4,5,6,7,8,9,10,11), index =(0,1,2,3,4,5,6,7,8,9,10,11))\n",
    "heat_cm.index.name = 'Actual'\n",
    "heat_cm.columns.name = 'Predicted'\n",
    "plt.figure(figsize = (10,7))\n",
    "seaborn.set(font_scale=1.4) # For label size\n",
    "seaborn.heatmap(heat_cm,cmap=\"Blues\", annot=True, annot_kws={\"size\": 16},fmt='g')# font size\n",
    "cm_algo=plt.show()\n",
    "    \n",
    "report = print(classification_report(vallabelss, valpred))"
   ]
  },
  {
   "cell_type": "code",
   "execution_count": 32,
   "id": "d05aeb61",
   "metadata": {},
   "outputs": [],
   "source": [
    "xlsfile = 'pandas_to_excel.xlsx'\n",
    "writer = pd.ExcelWriter(xlsfile, engine='xlsxwriter')\n",
    "\n",
    "ypred.to_excel('submissioncnnall.xlsx', sheet_name='new_sheet_name')"
   ]
  },
  {
   "cell_type": "markdown",
   "id": "230d8d87",
   "metadata": {},
   "source": [
    "## Adding additional 2 datasets to output of CNN and using that as input to XGBoost"
   ]
  },
  {
   "cell_type": "code",
   "execution_count": 33,
   "id": "b9cb4b45",
   "metadata": {},
   "outputs": [
    {
     "name": "stdout",
     "output_type": "stream",
     "text": [
      "150/150 [==============================] - 340s 2s/step\n",
      "38/38 [==============================] - 67s 2s/step\n"
     ]
    }
   ],
   "source": [
    "train_ml = model.predict([train1,train2,train3])\n",
    "val_ml = model.predict([val1,val2,val3])\n"
   ]
  },
  {
   "cell_type": "code",
   "execution_count": 34,
   "id": "c8781e02",
   "metadata": {},
   "outputs": [],
   "source": [
    "indices = np.array(range(tr3.shape[0]))\n",
    "\n",
    "random.seed(0)\n",
    "random.shuffle(indices)\n",
    "ind = np.int16(np.round(0.8 * len(tr3)))\n",
    "\n",
    "#deviding tran and validation set\n",
    "\n",
    "pom1 = tr4[:ind]\n",
    "pom2 = tr5[:ind]\n",
    "valpom1 = tr4[ind:]\n",
    "valpom2 = tr5[ind:]\n",
    "vallabelss = labels[ind:]"
   ]
  },
  {
   "cell_type": "code",
   "execution_count": 35,
   "id": "5468ee5c",
   "metadata": {},
   "outputs": [],
   "source": [
    "p=pd.merge(pom1,pom2)"
   ]
  },
  {
   "cell_type": "code",
   "execution_count": 36,
   "id": "f934eaa3",
   "metadata": {},
   "outputs": [],
   "source": [
    "v=pd.merge(valpom1,valpom2)"
   ]
  },
  {
   "cell_type": "code",
   "execution_count": 37,
   "id": "6b480209",
   "metadata": {},
   "outputs": [],
   "source": [
    "p=p.drop('ID',axis=1)"
   ]
  },
  {
   "cell_type": "code",
   "execution_count": 38,
   "id": "1aa01a41",
   "metadata": {},
   "outputs": [],
   "source": [
    "v=v.drop('ID',axis=1)"
   ]
  },
  {
   "cell_type": "code",
   "execution_count": 39,
   "id": "78257e93",
   "metadata": {},
   "outputs": [],
   "source": [
    "t=pd.DataFrame(train_ml)"
   ]
  },
  {
   "cell_type": "code",
   "execution_count": 40,
   "id": "3216ab05",
   "metadata": {},
   "outputs": [],
   "source": [
    "tv=pd.DataFrame(val_ml)"
   ]
  },
  {
   "cell_type": "code",
   "execution_count": 41,
   "id": "4df1feb9",
   "metadata": {},
   "outputs": [],
   "source": [
    "fin=pd.merge(t,p,left_index=True, right_index=True)"
   ]
  },
  {
   "cell_type": "code",
   "execution_count": 42,
   "id": "00dafe07",
   "metadata": {},
   "outputs": [],
   "source": [
    "finval=pd.merge(tv,v,left_index=True, right_index=True)"
   ]
  },
  {
   "cell_type": "code",
   "execution_count": 284,
   "id": "bed96908",
   "metadata": {},
   "outputs": [],
   "source": [
    "def machine_learning(algorithm):\n",
    "    algorithm.fit(fin, trainlabelss)\n",
    "    \n",
    "    prediction_algo = algorithm.predict(finval)\n",
    "    cm_algo = confusion_matrix(vallabelss, prediction_algo)\n",
    "    heat_cm = pd.DataFrame(cm_algo, columns=(0,1,2,3,4,5,6,7,8,9,10,11), index =(0,1,2,3,4,5,6,7,8,9,10,11))\n",
    "    heat_cm.index.name = 'Actual'\n",
    "    heat_cm.columns.name = 'Predicted'\n",
    "    plt.figure(figsize = (10,7))\n",
    "    seaborn.set(font_scale=1.4) # For label size\n",
    "    seaborn.heatmap(heat_cm, cmap=\"Blues\", annot=True, annot_kws={\"size\": 16},fmt='g')# font size\n",
    "    cm_algo=plt.show()\n",
    "    \n",
    "    report = print(classification_report(vallabelss, prediction_algo))\n",
    "  \n",
    "    return cm_algo, report"
   ]
  },
  {
   "cell_type": "code",
   "execution_count": 287,
   "id": "04b5fd91",
   "metadata": {},
   "outputs": [
    {
     "data": {
      "image/png": "[encoded data removed]",
      "text/plain": [
       "<Figure size 720x504 with 2 Axes>"
      ]
     },
     "metadata": {},
     "output_type": "display_data"
    },
    {
     "name": "stdout",
     "output_type": "stream",
     "text": [
      "              precision    recall  f1-score   support\n",
      "\n",
      "           0       0.68      0.62      0.65       101\n",
      "           1       0.65      0.53      0.58       108\n",
      "           2       0.56      0.60      0.58        94\n",
      "           3       0.53      0.55      0.54       105\n",
      "           4       0.65      0.76      0.70        92\n",
      "           5       0.42      0.43      0.42       103\n",
      "           6       0.73      0.63      0.67       105\n",
      "           7       0.69      0.75      0.72        95\n",
      "           8       0.52      0.59      0.55       102\n",
      "           9       0.50      0.61      0.55        84\n",
      "          10       0.36      0.29      0.32        90\n",
      "          11       0.85      0.78      0.81       121\n",
      "\n",
      "    accuracy                           0.60      1200\n",
      "   macro avg       0.59      0.59      0.59      1200\n",
      "weighted avg       0.60      0.60      0.60      1200\n",
      "\n"
     ]
    }
   ],
   "source": [
    "#%% XGBoost\n",
    "from sklearn.metrics import confusion_matrix, classification_report\n",
    "from xgboost import XGBClassifier\n",
    "\n",
    "import seaborn\n",
    "xgboost = XGBClassifier(objective = 'multiclass : softmax')\n",
    "\n",
    "xgb_cm, xgb_report = machine_learning(xgboost)"
   ]
  },
  {
   "cell_type": "markdown",
   "id": "1e7cc824",
   "metadata": {},
   "source": [
    "preprocessing of test data"
   ]
  },
  {
   "cell_type": "code",
   "execution_count": 43,
   "id": "b2a87fdd",
   "metadata": {},
   "outputs": [],
   "source": [
    "pomtest=pd.merge(test4,test5).drop('ID',axis=1)"
   ]
  },
  {
   "cell_type": "code",
   "execution_count": 44,
   "id": "05aeb09e",
   "metadata": {},
   "outputs": [],
   "source": [
    "finaltest=pd.merge(pd.DataFrame(predict), pomtest, left_index=True, right_index=True)"
   ]
  },
  {
   "cell_type": "code",
   "execution_count": 45,
   "id": "b880dff0",
   "metadata": {
    "scrolled": true
   },
   "outputs": [
    {
     "data": {
      "text/html": [
       "<div><div id=37fbf7fb-168c-459e-9421-0eb19efec09b style=\"display:none; background-color:#9D6CFF; color:white; width:200px; height:30px; padding-left:5px; border-radius:4px; flex-direction:row; justify-content:space-around; align-items:center;\" onmouseover=\"this.style.backgroundColor='#BA9BF8'\" onmouseout=\"this.style.backgroundColor='#9D6CFF'\" onclick=\"window.commands?.execute('create-mitosheet-from-dataframe-output');\">See Full Dataframe in Mito</div> <script> if (window.commands?.hasCommand('create-mitosheet-from-dataframe-output')) document.getElementById('37fbf7fb-168c-459e-9421-0eb19efec09b').style.display = 'flex' </script> <table border=\"1\" class=\"dataframe\">\n",
       "  <thead>\n",
       "    <tr style=\"text-align: right;\">\n",
       "      <th></th>\n",
       "      <th>0</th>\n",
       "      <th>1</th>\n",
       "      <th>2</th>\n",
       "      <th>3</th>\n",
       "      <th>4</th>\n",
       "      <th>5</th>\n",
       "      <th>6</th>\n",
       "      <th>7</th>\n",
       "      <th>8</th>\n",
       "      <th>9</th>\n",
       "      <th>10</th>\n",
       "      <th>11</th>\n",
       "      <th>size</th>\n",
       "      <th>lt feature 1</th>\n",
       "      <th>lt feature 2</th>\n",
       "      <th>lt feature 3</th>\n",
       "      <th>lt feature 4</th>\n",
       "    </tr>\n",
       "  </thead>\n",
       "  <tbody>\n",
       "    <tr>\n",
       "      <th>0</th>\n",
       "      <td>0.004191</td>\n",
       "      <td>0.010426</td>\n",
       "      <td>0.046337</td>\n",
       "      <td>0.025567</td>\n",
       "      <td>0.001341</td>\n",
       "      <td>0.127599</td>\n",
       "      <td>0.000845</td>\n",
       "      <td>0.010047</td>\n",
       "      <td>0.019044</td>\n",
       "      <td>0.650073</td>\n",
       "      <td>0.104157</td>\n",
       "      <td>0.000374</td>\n",
       "      <td>30.752787</td>\n",
       "      <td>0.853280</td>\n",
       "      <td>1.000000</td>\n",
       "      <td>0.657596</td>\n",
       "      <td>0.170519</td>\n",
       "    </tr>\n",
       "    <tr>\n",
       "      <th>1</th>\n",
       "      <td>0.000212</td>\n",
       "      <td>0.007878</td>\n",
       "      <td>0.017163</td>\n",
       "      <td>0.002843</td>\n",
       "      <td>0.000130</td>\n",
       "      <td>0.011769</td>\n",
       "      <td>0.000849</td>\n",
       "      <td>0.002111</td>\n",
       "      <td>0.000673</td>\n",
       "      <td>0.918490</td>\n",
       "      <td>0.032751</td>\n",
       "      <td>0.005130</td>\n",
       "      <td>35.027672</td>\n",
       "      <td>0.823714</td>\n",
       "      <td>1.000000</td>\n",
       "      <td>0.619438</td>\n",
       "      <td>-0.002691</td>\n",
       "    </tr>\n",
       "    <tr>\n",
       "      <th>2</th>\n",
       "      <td>0.852616</td>\n",
       "      <td>0.058287</td>\n",
       "      <td>0.000174</td>\n",
       "      <td>0.009924</td>\n",
       "      <td>0.000005</td>\n",
       "      <td>0.000204</td>\n",
       "      <td>0.050347</td>\n",
       "      <td>0.000016</td>\n",
       "      <td>0.009578</td>\n",
       "      <td>0.000096</td>\n",
       "      <td>0.018606</td>\n",
       "      <td>0.000147</td>\n",
       "      <td>22.178818</td>\n",
       "      <td>0.465441</td>\n",
       "      <td>1.000000</td>\n",
       "      <td>0.212438</td>\n",
       "      <td>0.018943</td>\n",
       "    </tr>\n",
       "    <tr>\n",
       "      <th>3</th>\n",
       "      <td>0.010262</td>\n",
       "      <td>0.129042</td>\n",
       "      <td>0.000114</td>\n",
       "      <td>0.443257</td>\n",
       "      <td>0.002177</td>\n",
       "      <td>0.040958</td>\n",
       "      <td>0.048170</td>\n",
       "      <td>0.000002</td>\n",
       "      <td>0.048296</td>\n",
       "      <td>0.007218</td>\n",
       "      <td>0.270504</td>\n",
       "      <td>0.000001</td>\n",
       "      <td>41.726349</td>\n",
       "      <td>0.616071</td>\n",
       "      <td>1.000000</td>\n",
       "      <td>0.948248</td>\n",
       "      <td>0.000212</td>\n",
       "    </tr>\n",
       "    <tr>\n",
       "      <th>4</th>\n",
       "      <td>0.006477</td>\n",
       "      <td>0.009586</td>\n",
       "      <td>0.011496</td>\n",
       "      <td>0.297800</td>\n",
       "      <td>0.011585</td>\n",
       "      <td>0.001868</td>\n",
       "      <td>0.643855</td>\n",
       "      <td>0.000003</td>\n",
       "      <td>0.000371</td>\n",
       "      <td>0.007375</td>\n",
       "      <td>0.009468</td>\n",
       "      <td>0.000114</td>\n",
       "      <td>33.576382</td>\n",
       "      <td>0.745478</td>\n",
       "      <td>0.924289</td>\n",
       "      <td>1.000000</td>\n",
       "      <td>0.204651</td>\n",
       "    </tr>\n",
       "    <tr>\n",
       "      <th>...</th>\n",
       "      <td>...</td>\n",
       "      <td>...</td>\n",
       "      <td>...</td>\n",
       "      <td>...</td>\n",
       "      <td>...</td>\n",
       "      <td>...</td>\n",
       "      <td>...</td>\n",
       "      <td>...</td>\n",
       "      <td>...</td>\n",
       "      <td>...</td>\n",
       "      <td>...</td>\n",
       "      <td>...</td>\n",
       "      <td>...</td>\n",
       "      <td>...</td>\n",
       "      <td>...</td>\n",
       "      <td>...</td>\n",
       "      <td>...</td>\n",
       "    </tr>\n",
       "    <tr>\n",
       "      <th>3861</th>\n",
       "      <td>0.086748</td>\n",
       "      <td>0.005033</td>\n",
       "      <td>0.053703</td>\n",
       "      <td>0.028961</td>\n",
       "      <td>0.000499</td>\n",
       "      <td>0.362253</td>\n",
       "      <td>0.002374</td>\n",
       "      <td>0.058446</td>\n",
       "      <td>0.000474</td>\n",
       "      <td>0.005141</td>\n",
       "      <td>0.002515</td>\n",
       "      <td>0.393853</td>\n",
       "      <td>28.959412</td>\n",
       "      <td>0.706934</td>\n",
       "      <td>1.000000</td>\n",
       "      <td>0.323072</td>\n",
       "      <td>-0.010012</td>\n",
       "    </tr>\n",
       "    <tr>\n",
       "      <th>3862</th>\n",
       "      <td>0.001074</td>\n",
       "      <td>0.002246</td>\n",
       "      <td>0.061337</td>\n",
       "      <td>0.009093</td>\n",
       "      <td>0.004841</td>\n",
       "      <td>0.709644</td>\n",
       "      <td>0.000359</td>\n",
       "      <td>0.003971</td>\n",
       "      <td>0.001727</td>\n",
       "      <td>0.190977</td>\n",
       "      <td>0.010124</td>\n",
       "      <td>0.004607</td>\n",
       "      <td>30.270859</td>\n",
       "      <td>1.000000</td>\n",
       "      <td>0.714122</td>\n",
       "      <td>0.671445</td>\n",
       "      <td>0.014005</td>\n",
       "    </tr>\n",
       "    <tr>\n",
       "      <th>3863</th>\n",
       "      <td>0.020865</td>\n",
       "      <td>0.005947</td>\n",
       "      <td>0.068510</td>\n",
       "      <td>0.009307</td>\n",
       "      <td>0.008636</td>\n",
       "      <td>0.279737</td>\n",
       "      <td>0.001700</td>\n",
       "      <td>0.006804</td>\n",
       "      <td>0.244784</td>\n",
       "      <td>0.202527</td>\n",
       "      <td>0.150997</td>\n",
       "      <td>0.000187</td>\n",
       "      <td>29.448887</td>\n",
       "      <td>1.000000</td>\n",
       "      <td>0.699150</td>\n",
       "      <td>0.200982</td>\n",
       "      <td>-0.026818</td>\n",
       "    </tr>\n",
       "    <tr>\n",
       "      <th>3864</th>\n",
       "      <td>0.000684</td>\n",
       "      <td>0.285615</td>\n",
       "      <td>0.000330</td>\n",
       "      <td>0.051735</td>\n",
       "      <td>0.000951</td>\n",
       "      <td>0.013139</td>\n",
       "      <td>0.005429</td>\n",
       "      <td>0.000602</td>\n",
       "      <td>0.306503</td>\n",
       "      <td>0.131418</td>\n",
       "      <td>0.203526</td>\n",
       "      <td>0.000069</td>\n",
       "      <td>31.472961</td>\n",
       "      <td>0.463425</td>\n",
       "      <td>1.000000</td>\n",
       "      <td>0.588778</td>\n",
       "      <td>0.000543</td>\n",
       "    </tr>\n",
       "    <tr>\n",
       "      <th>3865</th>\n",
       "      <td>0.018455</td>\n",
       "      <td>0.007287</td>\n",
       "      <td>0.033771</td>\n",
       "      <td>0.436755</td>\n",
       "      <td>0.067433</td>\n",
       "      <td>0.403181</td>\n",
       "      <td>0.004712</td>\n",
       "      <td>0.000828</td>\n",
       "      <td>0.000609</td>\n",
       "      <td>0.010521</td>\n",
       "      <td>0.003036</td>\n",
       "      <td>0.013412</td>\n",
       "      <td>32.259308</td>\n",
       "      <td>1.000000</td>\n",
       "      <td>0.809641</td>\n",
       "      <td>0.130841</td>\n",
       "      <td>-0.114117</td>\n",
       "    </tr>\n",
       "  </tbody>\n",
       "</table></div>"
      ],
      "text/plain": [
       "             0         1         2         3         4         5         6  \\\n",
       "0     0.004191  0.010426  0.046337  0.025567  0.001341  0.127599  0.000845   \n",
       "1     0.000212  0.007878  0.017163  0.002843  0.000130  0.011769  0.000849   \n",
       "2     0.852616  0.058287  0.000174  0.009924  0.000005  0.000204  0.050347   \n",
       "3     0.010262  0.129042  0.000114  0.443257  0.002177  0.040958  0.048170   \n",
       "4     0.006477  0.009586  0.011496  0.297800  0.011585  0.001868  0.643855   \n",
       "...        ...       ...       ...       ...       ...       ...       ...   \n",
       "3861  0.086748  0.005033  0.053703  0.028961  0.000499  0.362253  0.002374   \n",
       "3862  0.001074  0.002246  0.061337  0.009093  0.004841  0.709644  0.000359   \n",
       "3863  0.020865  0.005947  0.068510  0.009307  0.008636  0.279737  0.001700   \n",
       "3864  0.000684  0.285615  0.000330  0.051735  0.000951  0.013139  0.005429   \n",
       "3865  0.018455  0.007287  0.033771  0.436755  0.067433  0.403181  0.004712   \n",
       "\n",
       "             7         8         9        10        11       size  \\\n",
       "0     0.010047  0.019044  0.650073  0.104157  0.000374  30.752787   \n",
       "1     0.002111  0.000673  0.918490  0.032751  0.005130  35.027672   \n",
       "2     0.000016  0.009578  0.000096  0.018606  0.000147  22.178818   \n",
       "3     0.000002  0.048296  0.007218  0.270504  0.000001  41.726349   \n",
       "4     0.000003  0.000371  0.007375  0.009468  0.000114  33.576382   \n",
       "...        ...       ...       ...       ...       ...        ...   \n",
       "3861  0.058446  0.000474  0.005141  0.002515  0.393853  28.959412   \n",
       "3862  0.003971  0.001727  0.190977  0.010124  0.004607  30.270859   \n",
       "3863  0.006804  0.244784  0.202527  0.150997  0.000187  29.448887   \n",
       "3864  0.000602  0.306503  0.131418  0.203526  0.000069  31.472961   \n",
       "3865  0.000828  0.000609  0.010521  0.003036  0.013412  32.259308   \n",
       "\n",
       "      lt feature 1  lt feature 2  lt feature 3  lt feature 4  \n",
       "0         0.853280      1.000000      0.657596      0.170519  \n",
       "1         0.823714      1.000000      0.619438     -0.002691  \n",
       "2         0.465441      1.000000      0.212438      0.018943  \n",
       "3         0.616071      1.000000      0.948248      0.000212  \n",
       "4         0.745478      0.924289      1.000000      0.204651  \n",
       "...            ...           ...           ...           ...  \n",
       "3861      0.706934      1.000000      0.323072     -0.010012  \n",
       "3862      1.000000      0.714122      0.671445      0.014005  \n",
       "3863      1.000000      0.699150      0.200982     -0.026818  \n",
       "3864      0.463425      1.000000      0.588778      0.000543  \n",
       "3865      1.000000      0.809641      0.130841     -0.114117  \n",
       "\n",
       "[3866 rows x 17 columns]"
      ]
     },
     "execution_count": 45,
     "metadata": {},
     "output_type": "execute_result"
    }
   ],
   "source": [
    "finaltest"
   ]
  },
  {
   "cell_type": "markdown",
   "id": "bfa39571",
   "metadata": {},
   "source": [
    "prediction final"
   ]
  },
  {
   "cell_type": "code",
   "execution_count": 291,
   "id": "4e009ec1",
   "metadata": {},
   "outputs": [
    {
     "data": {
      "text/html": [
       "<div><div id=d1919621-4e61-4c5c-92ab-8fcae58653ee style=\"display:none; background-color:#9D6CFF; color:white; width:200px; height:30px; padding-left:5px; border-radius:4px; flex-direction:row; justify-content:space-around; align-items:center;\" onmouseover=\"this.style.backgroundColor='#BA9BF8'\" onmouseout=\"this.style.backgroundColor='#9D6CFF'\" onclick=\"window.commands?.execute('create-mitosheet-from-dataframe-output');\">See Full Dataframe in Mito</div> <script> if (window.commands?.hasCommand('create-mitosheet-from-dataframe-output')) document.getElementById('d1919621-4e61-4c5c-92ab-8fcae58653ee').style.display = 'flex' </script> <table border=\"1\" class=\"dataframe\">\n",
       "  <thead>\n",
       "    <tr style=\"text-align: right;\">\n",
       "      <th></th>\n",
       "      <th>0</th>\n",
       "    </tr>\n",
       "  </thead>\n",
       "  <tbody>\n",
       "    <tr>\n",
       "      <th>0</th>\n",
       "      <td>9</td>\n",
       "    </tr>\n",
       "    <tr>\n",
       "      <th>1</th>\n",
       "      <td>9</td>\n",
       "    </tr>\n",
       "    <tr>\n",
       "      <th>2</th>\n",
       "      <td>0</td>\n",
       "    </tr>\n",
       "    <tr>\n",
       "      <th>3</th>\n",
       "      <td>10</td>\n",
       "    </tr>\n",
       "    <tr>\n",
       "      <th>4</th>\n",
       "      <td>6</td>\n",
       "    </tr>\n",
       "    <tr>\n",
       "      <th>...</th>\n",
       "      <td>...</td>\n",
       "    </tr>\n",
       "    <tr>\n",
       "      <th>3861</th>\n",
       "      <td>11</td>\n",
       "    </tr>\n",
       "    <tr>\n",
       "      <th>3862</th>\n",
       "      <td>5</td>\n",
       "    </tr>\n",
       "    <tr>\n",
       "      <th>3863</th>\n",
       "      <td>9</td>\n",
       "    </tr>\n",
       "    <tr>\n",
       "      <th>3864</th>\n",
       "      <td>10</td>\n",
       "    </tr>\n",
       "    <tr>\n",
       "      <th>3865</th>\n",
       "      <td>3</td>\n",
       "    </tr>\n",
       "  </tbody>\n",
       "</table></div>"
      ],
      "text/plain": [
       "       0\n",
       "0      9\n",
       "1      9\n",
       "2      0\n",
       "3     10\n",
       "4      6\n",
       "...   ..\n",
       "3861  11\n",
       "3862   5\n",
       "3863   9\n",
       "3864  10\n",
       "3865   3\n",
       "\n",
       "[3866 rows x 1 columns]"
      ]
     },
     "execution_count": 291,
     "metadata": {},
     "output_type": "execute_result"
    }
   ],
   "source": [
    "ypred2=xgboost.predict(finaltest)\n",
    "ypred2=pd.DataFrame(ypred2)\n",
    "ypred2"
   ]
  },
  {
   "cell_type": "code",
   "execution_count": 292,
   "id": "bd7d09d7",
   "metadata": {},
   "outputs": [],
   "source": [
    "xlsfile = 'pandas_to_excel.xlsx'\n",
    "writer = pd.ExcelWriter(xlsfile, engine='xlsxwriter')\n",
    "\n",
    "ypred2.to_excel('submissioncnnallfinal.xlsx', sheet_name='new_sheet_name')"
   ]
  },
  {
   "cell_type": "markdown",
   "id": "83863a02",
   "metadata": {},
   "source": [
    "## Cnn as feature extraction and XGBoost as classifier"
   ]
  },
  {
   "cell_type": "code",
   "execution_count": 95,
   "id": "651ac07e",
   "metadata": {},
   "outputs": [
    {
     "name": "stdout",
     "output_type": "stream",
     "text": [
      "150/150 [==============================] - 300s 2s/step\n",
      "38/38 [==============================] - 70s 2s/step\n"
     ]
    }
   ],
   "source": [
    "feature_extr = tensorflow.keras.Model(inputs = [f_cnn.input, sp_cnn.input, sc_cnn.input],\n",
    "                                      outputs = [f_cnn.get_layer(index=((len(f_cnn.layers)-3))).output,\n",
    "                                                 sp_cnn.get_layer(index=((len(sp_cnn.layers)-3))).output,\n",
    "                                                 sc_cnn.get_layer(index=((len(sc_cnn.layers)-4))).output])\n",
    "\n",
    "tr = feature_extr.predict([train1,train2,train3])\n",
    "vl = feature_extr.predict([val1,val2,val3])"
   ]
  },
  {
   "cell_type": "code",
   "execution_count": 96,
   "id": "2139a6a5",
   "metadata": {},
   "outputs": [],
   "source": [
    "tr1= pd.DataFrame(tr[0])\n",
    "tr2 = pd.DataFrame(tr[1])\n",
    "tr3 = pd.DataFrame(tr[2])\n",
    "tr = pd.merge(pd.merge(tr1,tr2,left_index=True, right_index=True),tr3,left_index=True, right_index=True)\n",
    "\n",
    "\n",
    "vl1= pd.DataFrame(vl[0])\n",
    "vl2 = pd.DataFrame(vl[1])\n",
    "vl3 = pd.DataFrame(vl[2])\n",
    "vl = pd.merge(pd.merge(vl1,vl2,left_index=True, right_index=True),vl3,left_index=True, right_index=True)\n"
   ]
  },
  {
   "cell_type": "code",
   "execution_count": 97,
   "id": "d8e3ffec",
   "metadata": {},
   "outputs": [
    {
     "data": {
      "text/html": [
       "<div><div id=d9e8f31d-c675-4bf1-865a-f8aa44b0867d style=\"display:none; background-color:#9D6CFF; color:white; width:200px; height:30px; padding-left:5px; border-radius:4px; flex-direction:row; justify-content:space-around; align-items:center;\" onmouseover=\"this.style.backgroundColor='#BA9BF8'\" onmouseout=\"this.style.backgroundColor='#9D6CFF'\" onclick=\"window.commands?.execute('create-mitosheet-from-dataframe-output');\">See Full Dataframe in Mito</div> <script> if (window.commands?.hasCommand('create-mitosheet-from-dataframe-output')) document.getElementById('d9e8f31d-c675-4bf1-865a-f8aa44b0867d').style.display = 'flex' </script> <table border=\"1\" class=\"dataframe\">\n",
       "  <thead>\n",
       "    <tr style=\"text-align: right;\">\n",
       "      <th></th>\n",
       "      <th>0_x</th>\n",
       "      <th>1_x</th>\n",
       "      <th>2_x</th>\n",
       "      <th>3_x</th>\n",
       "      <th>4_x</th>\n",
       "      <th>5_x</th>\n",
       "      <th>6_x</th>\n",
       "      <th>7_x</th>\n",
       "      <th>8_x</th>\n",
       "      <th>9_x</th>\n",
       "      <th>...</th>\n",
       "      <th>118</th>\n",
       "      <th>119</th>\n",
       "      <th>120</th>\n",
       "      <th>121</th>\n",
       "      <th>122</th>\n",
       "      <th>123</th>\n",
       "      <th>124</th>\n",
       "      <th>125</th>\n",
       "      <th>126</th>\n",
       "      <th>127</th>\n",
       "    </tr>\n",
       "  </thead>\n",
       "  <tbody>\n",
       "    <tr>\n",
       "      <th>0</th>\n",
       "      <td>0.001040</td>\n",
       "      <td>0.000000</td>\n",
       "      <td>0.000915</td>\n",
       "      <td>0.000000</td>\n",
       "      <td>0.000000</td>\n",
       "      <td>0.001279</td>\n",
       "      <td>0.000000</td>\n",
       "      <td>0.000038</td>\n",
       "      <td>0.0</td>\n",
       "      <td>0.000075</td>\n",
       "      <td>...</td>\n",
       "      <td>2.800057</td>\n",
       "      <td>0.000000</td>\n",
       "      <td>8.825472</td>\n",
       "      <td>38.417530</td>\n",
       "      <td>0.339933</td>\n",
       "      <td>51.228973</td>\n",
       "      <td>0.0</td>\n",
       "      <td>32.554161</td>\n",
       "      <td>0.0</td>\n",
       "      <td>80.378601</td>\n",
       "    </tr>\n",
       "    <tr>\n",
       "      <th>1</th>\n",
       "      <td>0.001016</td>\n",
       "      <td>0.000000</td>\n",
       "      <td>0.000038</td>\n",
       "      <td>0.000064</td>\n",
       "      <td>0.000000</td>\n",
       "      <td>0.001243</td>\n",
       "      <td>0.000000</td>\n",
       "      <td>0.000000</td>\n",
       "      <td>0.0</td>\n",
       "      <td>0.000370</td>\n",
       "      <td>...</td>\n",
       "      <td>0.123656</td>\n",
       "      <td>0.000000</td>\n",
       "      <td>34.561069</td>\n",
       "      <td>46.056263</td>\n",
       "      <td>3.862458</td>\n",
       "      <td>29.141754</td>\n",
       "      <td>0.0</td>\n",
       "      <td>45.069210</td>\n",
       "      <td>0.0</td>\n",
       "      <td>57.045807</td>\n",
       "    </tr>\n",
       "    <tr>\n",
       "      <th>2</th>\n",
       "      <td>0.001220</td>\n",
       "      <td>0.000000</td>\n",
       "      <td>0.000433</td>\n",
       "      <td>0.000245</td>\n",
       "      <td>0.000000</td>\n",
       "      <td>0.001475</td>\n",
       "      <td>0.000000</td>\n",
       "      <td>0.000000</td>\n",
       "      <td>0.0</td>\n",
       "      <td>0.000088</td>\n",
       "      <td>...</td>\n",
       "      <td>0.000000</td>\n",
       "      <td>0.000000</td>\n",
       "      <td>29.839163</td>\n",
       "      <td>63.399597</td>\n",
       "      <td>0.000000</td>\n",
       "      <td>21.566994</td>\n",
       "      <td>0.0</td>\n",
       "      <td>37.131088</td>\n",
       "      <td>0.0</td>\n",
       "      <td>70.750206</td>\n",
       "    </tr>\n",
       "    <tr>\n",
       "      <th>3</th>\n",
       "      <td>0.001723</td>\n",
       "      <td>0.000000</td>\n",
       "      <td>0.000098</td>\n",
       "      <td>0.000874</td>\n",
       "      <td>0.000835</td>\n",
       "      <td>0.002671</td>\n",
       "      <td>0.000000</td>\n",
       "      <td>0.000000</td>\n",
       "      <td>0.0</td>\n",
       "      <td>0.001981</td>\n",
       "      <td>...</td>\n",
       "      <td>0.804477</td>\n",
       "      <td>0.000000</td>\n",
       "      <td>35.827820</td>\n",
       "      <td>49.379147</td>\n",
       "      <td>12.573050</td>\n",
       "      <td>12.900087</td>\n",
       "      <td>0.0</td>\n",
       "      <td>46.354599</td>\n",
       "      <td>0.0</td>\n",
       "      <td>44.212013</td>\n",
       "    </tr>\n",
       "    <tr>\n",
       "      <th>4</th>\n",
       "      <td>0.000741</td>\n",
       "      <td>0.000000</td>\n",
       "      <td>0.000174</td>\n",
       "      <td>0.000094</td>\n",
       "      <td>0.000000</td>\n",
       "      <td>0.001533</td>\n",
       "      <td>0.000000</td>\n",
       "      <td>0.000000</td>\n",
       "      <td>0.0</td>\n",
       "      <td>0.000766</td>\n",
       "      <td>...</td>\n",
       "      <td>0.000000</td>\n",
       "      <td>0.000000</td>\n",
       "      <td>30.185444</td>\n",
       "      <td>40.257137</td>\n",
       "      <td>5.751390</td>\n",
       "      <td>17.086651</td>\n",
       "      <td>0.0</td>\n",
       "      <td>37.900787</td>\n",
       "      <td>0.0</td>\n",
       "      <td>41.097939</td>\n",
       "    </tr>\n",
       "    <tr>\n",
       "      <th>...</th>\n",
       "      <td>...</td>\n",
       "      <td>...</td>\n",
       "      <td>...</td>\n",
       "      <td>...</td>\n",
       "      <td>...</td>\n",
       "      <td>...</td>\n",
       "      <td>...</td>\n",
       "      <td>...</td>\n",
       "      <td>...</td>\n",
       "      <td>...</td>\n",
       "      <td>...</td>\n",
       "      <td>...</td>\n",
       "      <td>...</td>\n",
       "      <td>...</td>\n",
       "      <td>...</td>\n",
       "      <td>...</td>\n",
       "      <td>...</td>\n",
       "      <td>...</td>\n",
       "      <td>...</td>\n",
       "      <td>...</td>\n",
       "      <td>...</td>\n",
       "    </tr>\n",
       "    <tr>\n",
       "      <th>1195</th>\n",
       "      <td>0.001421</td>\n",
       "      <td>0.000000</td>\n",
       "      <td>0.000288</td>\n",
       "      <td>0.000207</td>\n",
       "      <td>0.000000</td>\n",
       "      <td>0.002091</td>\n",
       "      <td>0.000000</td>\n",
       "      <td>0.000000</td>\n",
       "      <td>0.0</td>\n",
       "      <td>0.000686</td>\n",
       "      <td>...</td>\n",
       "      <td>0.000000</td>\n",
       "      <td>0.000000</td>\n",
       "      <td>24.159618</td>\n",
       "      <td>41.729424</td>\n",
       "      <td>9.530561</td>\n",
       "      <td>17.936989</td>\n",
       "      <td>0.0</td>\n",
       "      <td>35.992317</td>\n",
       "      <td>0.0</td>\n",
       "      <td>29.194309</td>\n",
       "    </tr>\n",
       "    <tr>\n",
       "      <th>1196</th>\n",
       "      <td>0.001167</td>\n",
       "      <td>0.000813</td>\n",
       "      <td>0.001151</td>\n",
       "      <td>0.000000</td>\n",
       "      <td>0.000000</td>\n",
       "      <td>0.001553</td>\n",
       "      <td>0.001953</td>\n",
       "      <td>0.000000</td>\n",
       "      <td>0.0</td>\n",
       "      <td>0.001067</td>\n",
       "      <td>...</td>\n",
       "      <td>0.000000</td>\n",
       "      <td>0.000000</td>\n",
       "      <td>23.771297</td>\n",
       "      <td>43.077507</td>\n",
       "      <td>8.862816</td>\n",
       "      <td>21.355198</td>\n",
       "      <td>0.0</td>\n",
       "      <td>34.663239</td>\n",
       "      <td>0.0</td>\n",
       "      <td>48.591904</td>\n",
       "    </tr>\n",
       "    <tr>\n",
       "      <th>1197</th>\n",
       "      <td>0.001210</td>\n",
       "      <td>0.000000</td>\n",
       "      <td>0.000000</td>\n",
       "      <td>0.000350</td>\n",
       "      <td>0.000000</td>\n",
       "      <td>0.001543</td>\n",
       "      <td>0.000000</td>\n",
       "      <td>0.000000</td>\n",
       "      <td>0.0</td>\n",
       "      <td>0.000427</td>\n",
       "      <td>...</td>\n",
       "      <td>7.588066</td>\n",
       "      <td>0.000000</td>\n",
       "      <td>13.292878</td>\n",
       "      <td>30.502800</td>\n",
       "      <td>0.250393</td>\n",
       "      <td>17.327969</td>\n",
       "      <td>0.0</td>\n",
       "      <td>24.860594</td>\n",
       "      <td>0.0</td>\n",
       "      <td>54.498787</td>\n",
       "    </tr>\n",
       "    <tr>\n",
       "      <th>1198</th>\n",
       "      <td>0.001073</td>\n",
       "      <td>0.000000</td>\n",
       "      <td>0.000636</td>\n",
       "      <td>0.000393</td>\n",
       "      <td>0.000092</td>\n",
       "      <td>0.001474</td>\n",
       "      <td>0.000000</td>\n",
       "      <td>0.000592</td>\n",
       "      <td>0.0</td>\n",
       "      <td>0.000000</td>\n",
       "      <td>...</td>\n",
       "      <td>0.000000</td>\n",
       "      <td>0.000000</td>\n",
       "      <td>18.035503</td>\n",
       "      <td>35.905357</td>\n",
       "      <td>3.860128</td>\n",
       "      <td>13.412503</td>\n",
       "      <td>0.0</td>\n",
       "      <td>32.139240</td>\n",
       "      <td>0.0</td>\n",
       "      <td>49.207386</td>\n",
       "    </tr>\n",
       "    <tr>\n",
       "      <th>1199</th>\n",
       "      <td>0.000448</td>\n",
       "      <td>0.000000</td>\n",
       "      <td>0.000790</td>\n",
       "      <td>0.000000</td>\n",
       "      <td>0.000375</td>\n",
       "      <td>0.001177</td>\n",
       "      <td>0.000467</td>\n",
       "      <td>0.000000</td>\n",
       "      <td>0.0</td>\n",
       "      <td>0.000361</td>\n",
       "      <td>...</td>\n",
       "      <td>0.000000</td>\n",
       "      <td>14.699967</td>\n",
       "      <td>0.000000</td>\n",
       "      <td>20.840300</td>\n",
       "      <td>9.678871</td>\n",
       "      <td>34.387428</td>\n",
       "      <td>0.0</td>\n",
       "      <td>37.253376</td>\n",
       "      <td>0.0</td>\n",
       "      <td>60.660027</td>\n",
       "    </tr>\n",
       "  </tbody>\n",
       "</table></div>"
      ],
      "text/plain": [
       "           0_x       1_x       2_x       3_x       4_x       5_x       6_x  \\\n",
       "0     0.001040  0.000000  0.000915  0.000000  0.000000  0.001279  0.000000   \n",
       "1     0.001016  0.000000  0.000038  0.000064  0.000000  0.001243  0.000000   \n",
       "2     0.001220  0.000000  0.000433  0.000245  0.000000  0.001475  0.000000   \n",
       "3     0.001723  0.000000  0.000098  0.000874  0.000835  0.002671  0.000000   \n",
       "4     0.000741  0.000000  0.000174  0.000094  0.000000  0.001533  0.000000   \n",
       "...        ...       ...       ...       ...       ...       ...       ...   \n",
       "1195  0.001421  0.000000  0.000288  0.000207  0.000000  0.002091  0.000000   \n",
       "1196  0.001167  0.000813  0.001151  0.000000  0.000000  0.001553  0.001953   \n",
       "1197  0.001210  0.000000  0.000000  0.000350  0.000000  0.001543  0.000000   \n",
       "1198  0.001073  0.000000  0.000636  0.000393  0.000092  0.001474  0.000000   \n",
       "1199  0.000448  0.000000  0.000790  0.000000  0.000375  0.001177  0.000467   \n",
       "\n",
       "           7_x  8_x       9_x  ...       118        119        120        121  \\\n",
       "0     0.000038  0.0  0.000075  ...  2.800057   0.000000   8.825472  38.417530   \n",
       "1     0.000000  0.0  0.000370  ...  0.123656   0.000000  34.561069  46.056263   \n",
       "2     0.000000  0.0  0.000088  ...  0.000000   0.000000  29.839163  63.399597   \n",
       "3     0.000000  0.0  0.001981  ...  0.804477   0.000000  35.827820  49.379147   \n",
       "4     0.000000  0.0  0.000766  ...  0.000000   0.000000  30.185444  40.257137   \n",
       "...        ...  ...       ...  ...       ...        ...        ...        ...   \n",
       "1195  0.000000  0.0  0.000686  ...  0.000000   0.000000  24.159618  41.729424   \n",
       "1196  0.000000  0.0  0.001067  ...  0.000000   0.000000  23.771297  43.077507   \n",
       "1197  0.000000  0.0  0.000427  ...  7.588066   0.000000  13.292878  30.502800   \n",
       "1198  0.000592  0.0  0.000000  ...  0.000000   0.000000  18.035503  35.905357   \n",
       "1199  0.000000  0.0  0.000361  ...  0.000000  14.699967   0.000000  20.840300   \n",
       "\n",
       "            122        123  124        125  126        127  \n",
       "0      0.339933  51.228973  0.0  32.554161  0.0  80.378601  \n",
       "1      3.862458  29.141754  0.0  45.069210  0.0  57.045807  \n",
       "2      0.000000  21.566994  0.0  37.131088  0.0  70.750206  \n",
       "3     12.573050  12.900087  0.0  46.354599  0.0  44.212013  \n",
       "4      5.751390  17.086651  0.0  37.900787  0.0  41.097939  \n",
       "...         ...        ...  ...        ...  ...        ...  \n",
       "1195   9.530561  17.936989  0.0  35.992317  0.0  29.194309  \n",
       "1196   8.862816  21.355198  0.0  34.663239  0.0  48.591904  \n",
       "1197   0.250393  17.327969  0.0  24.860594  0.0  54.498787  \n",
       "1198   3.860128  13.412503  0.0  32.139240  0.0  49.207386  \n",
       "1199   9.678871  34.387428  0.0  37.253376  0.0  60.660027  \n",
       "\n",
       "[1200 rows x 256 columns]"
      ]
     },
     "execution_count": 97,
     "metadata": {},
     "output_type": "execute_result"
    }
   ],
   "source": [
    "vl"
   ]
  },
  {
   "cell_type": "code",
   "execution_count": 98,
   "id": "08cac0ab",
   "metadata": {},
   "outputs": [],
   "source": [
    "fin=pd.merge(tr,p,left_index=True, right_index=True)"
   ]
  },
  {
   "cell_type": "code",
   "execution_count": 99,
   "id": "d85a372f",
   "metadata": {},
   "outputs": [],
   "source": [
    "finval=pd.merge(vl,v,left_index=True, right_index=True)"
   ]
  },
  {
   "cell_type": "code",
   "execution_count": 100,
   "id": "51bbedcd",
   "metadata": {},
   "outputs": [],
   "source": [
    "def machine_learning(algorithm):\n",
    "    algorithm.fit(fin, trainlabelss)\n",
    "    \n",
    "    prediction_algo = algorithm.predict(finval)\n",
    "    cm_algo = confusion_matrix(vallabelss, prediction_algo)\n",
    "    heat_cm = pd.DataFrame(cm_algo, columns=(0,1,2,3,4,5,6,7,8,9,10,11), index =(0,1,2,3,4,5,6,7,8,9,10,11))\n",
    "    heat_cm.index.name = 'Actual'\n",
    "    heat_cm.columns.name = 'Predicted'\n",
    "    plt.figure(figsize = (5,5))\n",
    "    seaborn.set(font_scale=1.4) # For label size\n",
    "    seaborn.heatmap(heat_cm, cmap=\"Blues\", annot=True, annot_kws={\"size\": 16},fmt='g')# font size\n",
    "    cm_algo=plt.show()\n",
    "    \n",
    "    report = print(classification_report(vallabelss, prediction_algo))\n",
    "  \n",
    "    return cm_algo, report"
   ]
  },
  {
   "cell_type": "code",
   "execution_count": 109,
   "id": "a6d3b627",
   "metadata": {
    "scrolled": true
   },
   "outputs": [
    {
     "data": {
      "image/png": "[encoded data removed]",
      "text/plain": [
       "<Figure size 360x360 with 2 Axes>"
      ]
     },
     "metadata": {},
     "output_type": "display_data"
    },
    {
     "name": "stdout",
     "output_type": "stream",
     "text": [
      "              precision    recall  f1-score   support\n",
      "\n",
      "           0       0.55      0.63      0.59       101\n",
      "           1       0.56      0.46      0.51       108\n",
      "           2       0.55      0.60      0.57        94\n",
      "           3       0.50      0.49      0.49       105\n",
      "           4       0.65      0.71      0.68        92\n",
      "           5       0.55      0.45      0.49       103\n",
      "           6       0.61      0.59      0.60       105\n",
      "           7       0.57      0.77      0.65        95\n",
      "           8       0.49      0.49      0.49       102\n",
      "           9       0.40      0.43      0.42        84\n",
      "          10       0.32      0.28      0.30        90\n",
      "          11       0.80      0.71      0.75       121\n",
      "\n",
      "    accuracy                           0.55      1200\n",
      "   macro avg       0.55      0.55      0.54      1200\n",
      "weighted avg       0.55      0.55      0.55      1200\n",
      "\n"
     ]
    }
   ],
   "source": [
    "from xgboost import XGBClassifier\n",
    "xgb = XGBClassifier()\n",
    "\n",
    "xgboost = XGBClassifier(objective='multi:softprob', \n",
    "                      num_class= 12)\n",
    "\n",
    "xgb_cm, xgb_report = machine_learning(xgboost)"
   ]
  },
  {
   "cell_type": "code",
   "execution_count": 102,
   "id": "7054c731",
   "metadata": {},
   "outputs": [
    {
     "name": "stdout",
     "output_type": "stream",
     "text": [
      "121/121 [==============================] - 301s 2s/step\n"
     ]
    }
   ],
   "source": [
    "intermediate_test_output = feature_extr.predict([test1,test2,test3])\n",
    "intermediate_test_output = pd.merge(pd.merge(pd.DataFrame(intermediate_test_output[0]),\n",
    "                                             pd.DataFrame(intermediate_test_output[1]),left_index=True, right_index=True),\n",
    "                                    pd.DataFrame(intermediate_test_output[2]),left_index=True, right_index=True)\n"
   ]
  },
  {
   "cell_type": "code",
   "execution_count": 103,
   "id": "086a5f63",
   "metadata": {},
   "outputs": [],
   "source": [
    "finaltest=pd.merge(intermediate_test_output, pomtest, left_index=True, right_index=True)"
   ]
  },
  {
   "cell_type": "code",
   "execution_count": 105,
   "id": "f49dfaa5",
   "metadata": {},
   "outputs": [],
   "source": [
    "ypredfinal1 = xgboost.predict(finaltest)"
   ]
  },
  {
   "cell_type": "code",
   "execution_count": 106,
   "id": "e5ce45ac",
   "metadata": {},
   "outputs": [],
   "source": [
    "ypredfin1 = pd.DataFrame(ypredfinal1)"
   ]
  },
  {
   "cell_type": "code",
   "execution_count": 107,
   "id": "0e1edf71",
   "metadata": {},
   "outputs": [
    {
     "data": {
      "text/html": [
       "<div><div id=1f7f1b16-0acd-4330-b39a-a047e5040e87 style=\"display:none; background-color:#9D6CFF; color:white; width:200px; height:30px; padding-left:5px; border-radius:4px; flex-direction:row; justify-content:space-around; align-items:center;\" onmouseover=\"this.style.backgroundColor='#BA9BF8'\" onmouseout=\"this.style.backgroundColor='#9D6CFF'\" onclick=\"window.commands?.execute('create-mitosheet-from-dataframe-output');\">See Full Dataframe in Mito</div> <script> if (window.commands?.hasCommand('create-mitosheet-from-dataframe-output')) document.getElementById('1f7f1b16-0acd-4330-b39a-a047e5040e87').style.display = 'flex' </script> <table border=\"1\" class=\"dataframe\">\n",
       "  <thead>\n",
       "    <tr style=\"text-align: right;\">\n",
       "      <th></th>\n",
       "      <th>0</th>\n",
       "    </tr>\n",
       "  </thead>\n",
       "  <tbody>\n",
       "    <tr>\n",
       "      <th>0</th>\n",
       "      <td>9</td>\n",
       "    </tr>\n",
       "    <tr>\n",
       "      <th>1</th>\n",
       "      <td>5</td>\n",
       "    </tr>\n",
       "    <tr>\n",
       "      <th>2</th>\n",
       "      <td>0</td>\n",
       "    </tr>\n",
       "    <tr>\n",
       "      <th>3</th>\n",
       "      <td>1</td>\n",
       "    </tr>\n",
       "    <tr>\n",
       "      <th>4</th>\n",
       "      <td>6</td>\n",
       "    </tr>\n",
       "    <tr>\n",
       "      <th>...</th>\n",
       "      <td>...</td>\n",
       "    </tr>\n",
       "    <tr>\n",
       "      <th>3861</th>\n",
       "      <td>11</td>\n",
       "    </tr>\n",
       "    <tr>\n",
       "      <th>3862</th>\n",
       "      <td>5</td>\n",
       "    </tr>\n",
       "    <tr>\n",
       "      <th>3863</th>\n",
       "      <td>5</td>\n",
       "    </tr>\n",
       "    <tr>\n",
       "      <th>3864</th>\n",
       "      <td>9</td>\n",
       "    </tr>\n",
       "    <tr>\n",
       "      <th>3865</th>\n",
       "      <td>9</td>\n",
       "    </tr>\n",
       "  </tbody>\n",
       "</table></div>"
      ],
      "text/plain": [
       "       0\n",
       "0      9\n",
       "1      5\n",
       "2      0\n",
       "3      1\n",
       "4      6\n",
       "...   ..\n",
       "3861  11\n",
       "3862   5\n",
       "3863   5\n",
       "3864   9\n",
       "3865   9\n",
       "\n",
       "[3866 rows x 1 columns]"
      ]
     },
     "execution_count": 107,
     "metadata": {},
     "output_type": "execute_result"
    }
   ],
   "source": [
    "ypredfin1"
   ]
  },
  {
   "cell_type": "code",
   "execution_count": 108,
   "id": "80c1d16e",
   "metadata": {},
   "outputs": [],
   "source": [
    "xlsfile = 'pandas_to_excel.xlsx'\n",
    "writer = pd.ExcelWriter(xlsfile, engine='xlsxwriter')\n",
    "\n",
    "ypredfin1.to_excel('submissionfinal.xlsx', sheet_name='new_sheet_name')"
   ]
  }
 ],
 "metadata": {
  "kernelspec": {
   "display_name": "Python 3",
   "language": "python",
   "name": "python3"
  },
  "language_info": {
   "codemirror_mode": {
    "name": "ipython",
    "version": 3
   },
   "file_extension": ".py",
   "mimetype": "text/x-python",
   "name": "python",
   "nbconvert_exporter": "python",
   "pygments_lexer": "ipython3",
   "version": "3.8.8"
  }
 },
 "nbformat": 4,
 "nbformat_minor": 5
}
